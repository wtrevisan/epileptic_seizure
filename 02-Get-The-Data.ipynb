{
 "cells": [
  {
   "cell_type": "markdown",
   "metadata": {},
   "source": [
    "***\n",
    "# `Project:` Prevendo a Ocorrências de Crises Epiléticas\n",
    "\n",
    "## `Date:` dezembro, 2021\n",
    "\n",
    "## `Data Scientist:` Walter Trevisan\n",
    "***"
   ]
  },
  {
   "cell_type": "markdown",
   "metadata": {},
   "source": [
    "# `Compreensão dos Dados`\n",
    "\n",
    "Nesta etapa, vamos realizar as seguintes atividades:\n",
    "\n",
    "1. **Compreender** o conjunto de dados que utilizaremos no projeto;\n",
    "\n",
    "1. **Carregar** o conjunto de dados (*dataset*);\n",
    "\n",
    "2. **Analisar** se existem **informações duplicadas** no *dataset*;\n",
    "\n",
    "3. **Analisar** se existem ***missing values*** (valores ausentes) no *dataset*;\n",
    "\n",
    "4. **Criar** dois conjuntos de dados: um para **treinamento** do modelo e outro para **teste** do modelo;\n",
    "\n",
    "5. **Salvar** os conjuntos de dados de **Treino** e **Teste**."
   ]
  },
  {
   "cell_type": "markdown",
   "metadata": {},
   "source": [
    "## 1- Compreensão do conjunto de dados (*dataset*)"
   ]
  },
  {
   "cell_type": "markdown",
   "metadata": {},
   "source": [
    "### Para que serve o Eletroencefalograma (`EEG`) e Como se preparar:\n",
    "\n",
    "O eletroencefalograma (**EEG**) é um exame de diagnóstico que registra a atividade elétrica do cérebro, sendo utilizado para identificar alterações neurológicas, como em caso de convulsões ou episódios de alteração da consciência, por exemplo.\n",
    "\n",
    "Normalmente, ele é feito através da fixação de pequenas placas de metal no couro cabeludo, chamadas de eletrodos, que estão ligadas a um computador que registra as ondas elétricas, sendo um exame muito utilizado por não causar dor e por poder ser realizado por pessoas de qualquer idade.\n",
    "\n",
    "O eletroencefalograma pode ser feito tanto em vigília, ou seja, com a pessoa acordada, ou durante o sono, dependendo de quando surgem as convulsões ou do problema que está sendo estudado, podendo, também ser necessária a prática de manobras para ativar a atividade cerebral, como exercícios respiratórios ou colocar de uma luz pulsante na frente do paciente.\n",
    "\n",
    "![](./images/EEG_1.png)"
   ]
  },
  {
   "cell_type": "markdown",
   "metadata": {},
   "source": [
    "### Para que serve:\n",
    "\n",
    "O **eletroencefalograma** (**`EEG`**) costuma ser solicitado por um neurologista e, geralmente, serve para identificar ou diagnosticar alterações neurológicas, como:\n",
    "\n",
    "* **Epilepsia**;\n",
    "* Suspeita de alterações da atividade cerebral;\n",
    "* Casos de alteração da consciência, como desmaios ou coma, por exemplo;\n",
    "* Detecção de inflamações ou intoxicações cerebrais;\n",
    "* Complemento da avaliação de pacientes com doenças cerebrais, como demência, ou doenças psiquiátricas;\n",
    "* Observar e acompanhar o **tratamento da epilepsia**;\n",
    "* Avaliação da morte encefálica. Entenda **[quando acontece e como detectar a morte cerebral](https://www.tuasaude.com/morte-cerebral/)**. \n",
    "\n",
    "Qualquer pessoa pode realizar um eletroencefalograma, não havendo contra-indicações absolutas, entretanto, é recomendado que seja evitado em pessoas com lesões de pele no couro cabeludo ou pediculose (piolho).\n",
    "\n",
    "![](./images/EEG_2.png)"
   ]
  },
  {
   "cell_type": "markdown",
   "metadata": {},
   "source": [
    "### Principais tipos e como é feito:\n",
    "\n",
    "O eletroencefalograma comum é feito com o implante a fixação de eletrodos, com um gel condutor, em áreas do couro cabeludo, de forma que as atividades cerebrais são captadas e registradas através um computador. Durante o exame, o médico poderá indicar a realização de manobras para ativar a atividade cerebral e aumentar a sensibilidade do exame, como hiperventilar, com respirações rápidas, ou com a colocação de uma luz pulsante na frente do paciente. \n",
    "\n",
    "Além disso, o exame pode ser feito de formas diferentes, como:\n",
    "\n",
    "* **Eletroencefalograma em vigília**: é o tipo mais comum do exame, feito com o paciente acordado, muito útil para identificar a maioria das alterações;\n",
    "* **Eletroencefalograma em sono**: é realizado durante o sono da pessoa, que passa a noite no hospital, facilitando a detecção de alterações cerebrais que podem surgir durante o sono, em casos de apnéia do sono, por exemplo;\n",
    "* **Eletroencefalograma com mapeamento cerebral**: é um melhoramento do exame, em que a atividade cerebral captada pelos eletrodos é transmitida para um computador, que cria um mapa capaz de tornar possível identificar as regiões do cérebro que estão em atividade no momento.\n",
    "\n",
    "Para identificar e diagnosticar doenças, o médico poderá utilizar exames de imagem, como a ressonância magnética ou a tomografia, mais sensíveis para detectar alterações como nódulos, tumores ou sangramentos, por exemplo. Entenda melhor quais as indicações e como são feitas a **[tomografia computadorizada](https://www.tuasaude.com/tomografia-computadorizada/)** e a **[ressonância magnética](https://www.tuasaude.com/ressonancia-magnetica/)**."
   ]
  },
  {
   "cell_type": "markdown",
   "metadata": {},
   "source": [
    "### Como se preparar para o encefalograma:\n",
    "\n",
    "Para se preparar para o encefalograma e melhorar a sua eficácia na detecção de alterações, é necessário evitar medicamentos que alteram o funcionamento do cérebro, como sedativos, antiepilépticos ou antidepressivos, 1 a 2 dias antes do exame ou de acordo com indicação do médico, não consumir bebidas com cafeína, como café, chá ou chocolate, 12 horas antes do exame, além de evitar utilizar óleos, cremes ou sprays no cabelo no dia do exame.\n",
    "\n",
    "Além disso, caso o eletroencefalograma seja feito durante o sono, o médico pode pedir que o paciente durma menos 4 a 5 horas na noite anterior para facilitar um sono profundo durante o exame."
   ]
  },
  {
   "cell_type": "markdown",
   "metadata": {},
   "source": [
    "### Descrição do conjunto de dados (*dataset*):\n",
    "\n",
    "O nosso conjunto de dados possui **178 colunas (atributos)**. Cada atributo representa exatamente 1 segundo da leitura do **EEG**.\n",
    "\n",
    "O conjunto de dados original da referência consiste em 5 pastas diferentes, cada uma com 100 arquivos, sendo que cada arquivo representa um único assunto/pessoa. Cada arquivo é um registro da atividade cerebral por 23,6 segundos. A série temporal correspondente é amostrada em 4097 pontos de dados. Cada ponto de dados é o valor da gravação do EEG em um ponto diferente no tempo. Portanto, temos um total de **500 indivíduos** com 4097 pontos de dados para 23,6 segundos cada um.\n",
    "\n",
    "Cada 4097 pontos de dados foram divididos e embaralhados em 23 pedaços; cada pedaço contém 178 pontos de dados por 1 segundo, e cada ponto de dados é o valor da gravação de EEG em um ponto diferente no tempo. Portanto, agora temos 23 x 500 = 11500 informações (linha), cada informação contém 178 pontos de dados para 1 segundo (coluna). Ou seja, o nosso conjunto de dados possui **178 colunas (atributos)**, sendo que cada atributo representa exatamente **1 segundo da leitura do EEG**. A última coluna do dataset representa o rótulo (*lable*) **`y`** **{1, 2, 3, 4, 5}**.\n",
    "\n",
    "Então, a variável de resposta é **`y`** na coluna 179; as variáveis explicativas são: **`X1, X2, ..., X178`**. A variável **`y`** contém a categoria do vetor de entrada 178-dimensional.\n",
    "\n",
    "A variável **`y`** possui **5 categorias**, a saber:\n",
    "\n",
    "* **5**: olhos abertos; significa que quando eles estavam registrando o sinal EEG do cérebro, o paciente tinha os olhos abertos;\n",
    "* **4**: olhos fechados; significa que quando eles estavam registrando o sinal EEG do cérebro, o paciente tinha seus olhos fechados;\n",
    "* **3**: sim, eles identificam onde a região do tumor estava no cérebro e registram a atividade do EEG a partir da área saudável do cérebro;\n",
    "* **2**: Eles registram o EEG a partir da área onde o tumor estava localizado;\n",
    "* **1**: Gravação da atividade de convulsão.\n",
    "\n",
    "Todos os indivíduoas das classes **2, 3, 4, e 5** são sujeitos que **não tiveram convulsões epilépticas**. Somente os sujeitos da classe **1* tiveram convulsões epilépticas**. Nossa motivação para criar esta versão dos dados foi simplificar o acesso aos dados através da criação de uma versão .csv dos mesmos. Embora existam 5 classes, a maioria dos autores fez a classificação binária, ou seja, a classe 1 (convulsão epilética) contra as demais.\n",
    "\n",
    "O conjunto de dados inclui 4097 leituras de eletroencefalograma (EEG) por paciente durante 23,5 segundos, com 500 pacientes no total. Os 4097 pontos de dados foram então divididos igualmente em 23 partes por paciente, cada parte é convertida em uma linha no conjunto de dados. Cada linha contém 178 leituras, que são transformadas em colunas; em outras palavras, existem 178 colunas que compõem um segundo das leituras de EEG. No total, existem 11.500 linhas e 179 colunas com a última coluna contendo o status do paciente, esteja ele tendo uma convulsão ou não."
   ]
  },
  {
   "cell_type": "markdown",
   "metadata": {},
   "source": [
    "### Referência:\n",
    "\n",
    "As informações foram obtidas **[neste site](https://www.tuasaude.com/eletroencefalograma/)**."
   ]
  },
  {
   "cell_type": "markdown",
   "metadata": {},
   "source": [
    "## Setup:\n",
    "\n",
    "Primeiro, vamos carregar os **pacotes e funções** que serão utilizadas neste **notebook**."
   ]
  },
  {
   "cell_type": "code",
   "execution_count": 1,
   "metadata": {},
   "outputs": [
    {
     "name": "stdout",
     "output_type": "stream",
     "text": [
      "Setup Complete!\n"
     ]
    }
   ],
   "source": [
    "# As novas versões do Pandas e Matplotlib trazem diversas mensagens de aviso ao desenvolvedor.\n",
    "# Então, vamos desativar essas mensagens.\n",
    "import sys # O pacote \"sys\" permite manipulações com o sistema operacional:\n",
    "import os  # Operation System (Packages and Functions)\n",
    "import warnings\n",
    "if not sys.warnoptions:\n",
    "    warnings.simplefilter(\"ignore\")\n",
    "warnings.simplefilter(action='ignore', category=FutureWarning)\n",
    "warnings.filterwarnings(\"ignore\", category=FutureWarning)\n",
    "\n",
    "# Importa função para verificarmos a versão da linguagem python:\n",
    "from platform import python_version\n",
    "\n",
    "# Importando os pacote Pandas:\n",
    "import pandas as pd\n",
    "\n",
    "# Importando o pacote do Scikit-Learn:\n",
    "import sklearn as skl \n",
    "\n",
    "# Função para criar amostras de dados de forma estratificada:\n",
    "from sklearn.model_selection import StratifiedShuffleSplit\n",
    "\n",
    "# Definindo o diretório raiz (Root) onde serão armazenados todas as informações\n",
    "# (Imagens, Objetos, Dados, Modelos de ML, etc...) do projeto.\n",
    "# Diretório Raiz (Root) do Projeto:\n",
    "ROOT_DIR = \".\"\n",
    "\n",
    "# Path: onde ficarão armazenados os \"Objetos\" (Estrututras de Dados) relacionados ao Projeto:\n",
    "OBJ_PATH = os.path.join(ROOT_DIR, \"objects\")\n",
    "# Criando o diretório, se ele não existir:\n",
    "os.makedirs(OBJ_PATH, exist_ok=True)\n",
    "\n",
    "# Path: onde ficarão armazenados os \"datasets\" (arquivos \"csv\") e os \"objetos\" (Data Frames) do Projeto:\n",
    "DATA_PATH = os.path.join(ROOT_DIR, \"data\")\n",
    "# Path do arquivo \"csv\" que contém o conjunto de dados do Projeto:\n",
    "DATA_FILE_PATH = os.path.join(DATA_PATH, \"dados_originais.csv\")\n",
    "# Criando o diretório, se ele não existir:\n",
    "os.makedirs(DATA_PATH, exist_ok=True)\n",
    "\n",
    "# Path: onde estão armazenadas as classes e funções que serão utilizadas neste notebook:\n",
    "LIB_PATH = os.path.join(ROOT_DIR, \"library\")\n",
    "\n",
    "# Adicionando o diretório \"./library\" ao 'path' do Sistema, para podermos importar classes e funções que serão\n",
    "# utilizadas neste notebook:\n",
    "sys.path.append(LIB_PATH)\n",
    "\n",
    "# Importando para este notebook, as classes e funções definidas no módulo \"data_science_library.py\":\n",
    "import data_science_library as dslib\n",
    "\n",
    "# Definindo uma \"semente\" para reproduzir os mesmos dados nas tarefas de amostragem:\n",
    "SEED = 42\n",
    "\n",
    "print(\"Setup Complete!\")"
   ]
  },
  {
   "cell_type": "code",
   "execution_count": 2,
   "metadata": {},
   "outputs": [
    {
     "name": "stdout",
     "output_type": "stream",
     "text": [
      "Versões dos pacotes usados neste jupyter notebook:\n",
      "Python      : 3.7.11\n",
      "Pandas      : 1.3.4\n",
      "Scikit-Learn: 1.0.1\n"
     ]
    }
   ],
   "source": [
    "# Versões dos pacotes usados neste jupyter notebook:\n",
    "print(\"Versões dos pacotes usados neste jupyter notebook:\")\n",
    "print(\"Python      : {}\".format(python_version()))\n",
    "print(\"Pandas      : {}\".format(pd.__version__))\n",
    "print(\"Scikit-Learn: {}\".format(skl.__version__))"
   ]
  },
  {
   "cell_type": "markdown",
   "metadata": {},
   "source": [
    "## 2- Carregar o conjunto de dados (*dataset*)"
   ]
  },
  {
   "cell_type": "code",
   "execution_count": 3,
   "metadata": {},
   "outputs": [
    {
     "data": {
      "text/html": [
       "<div>\n",
       "<style scoped>\n",
       "    .dataframe tbody tr th:only-of-type {\n",
       "        vertical-align: middle;\n",
       "    }\n",
       "\n",
       "    .dataframe tbody tr th {\n",
       "        vertical-align: top;\n",
       "    }\n",
       "\n",
       "    .dataframe thead th {\n",
       "        text-align: right;\n",
       "    }\n",
       "</style>\n",
       "<table border=\"1\" class=\"dataframe\">\n",
       "  <thead>\n",
       "    <tr style=\"text-align: right;\">\n",
       "      <th></th>\n",
       "      <th>Unnamed: 0</th>\n",
       "      <th>X1</th>\n",
       "      <th>X2</th>\n",
       "      <th>X3</th>\n",
       "      <th>X4</th>\n",
       "      <th>X5</th>\n",
       "      <th>X6</th>\n",
       "      <th>X7</th>\n",
       "      <th>X8</th>\n",
       "      <th>X9</th>\n",
       "      <th>...</th>\n",
       "      <th>X170</th>\n",
       "      <th>X171</th>\n",
       "      <th>X172</th>\n",
       "      <th>X173</th>\n",
       "      <th>X174</th>\n",
       "      <th>X175</th>\n",
       "      <th>X176</th>\n",
       "      <th>X177</th>\n",
       "      <th>X178</th>\n",
       "      <th>y</th>\n",
       "    </tr>\n",
       "  </thead>\n",
       "  <tbody>\n",
       "    <tr>\n",
       "      <th>0</th>\n",
       "      <td>X21.V1.791</td>\n",
       "      <td>135</td>\n",
       "      <td>190</td>\n",
       "      <td>229</td>\n",
       "      <td>223</td>\n",
       "      <td>192</td>\n",
       "      <td>125</td>\n",
       "      <td>55</td>\n",
       "      <td>-9</td>\n",
       "      <td>-33</td>\n",
       "      <td>...</td>\n",
       "      <td>-17</td>\n",
       "      <td>-15</td>\n",
       "      <td>-31</td>\n",
       "      <td>-77</td>\n",
       "      <td>-103</td>\n",
       "      <td>-127</td>\n",
       "      <td>-116</td>\n",
       "      <td>-83</td>\n",
       "      <td>-51</td>\n",
       "      <td>4</td>\n",
       "    </tr>\n",
       "    <tr>\n",
       "      <th>1</th>\n",
       "      <td>X15.V1.924</td>\n",
       "      <td>386</td>\n",
       "      <td>382</td>\n",
       "      <td>356</td>\n",
       "      <td>331</td>\n",
       "      <td>320</td>\n",
       "      <td>315</td>\n",
       "      <td>307</td>\n",
       "      <td>272</td>\n",
       "      <td>244</td>\n",
       "      <td>...</td>\n",
       "      <td>164</td>\n",
       "      <td>150</td>\n",
       "      <td>146</td>\n",
       "      <td>152</td>\n",
       "      <td>157</td>\n",
       "      <td>156</td>\n",
       "      <td>154</td>\n",
       "      <td>143</td>\n",
       "      <td>129</td>\n",
       "      <td>1</td>\n",
       "    </tr>\n",
       "    <tr>\n",
       "      <th>2</th>\n",
       "      <td>X8.V1.1</td>\n",
       "      <td>-32</td>\n",
       "      <td>-39</td>\n",
       "      <td>-47</td>\n",
       "      <td>-37</td>\n",
       "      <td>-32</td>\n",
       "      <td>-36</td>\n",
       "      <td>-57</td>\n",
       "      <td>-73</td>\n",
       "      <td>-85</td>\n",
       "      <td>...</td>\n",
       "      <td>57</td>\n",
       "      <td>64</td>\n",
       "      <td>48</td>\n",
       "      <td>19</td>\n",
       "      <td>-12</td>\n",
       "      <td>-30</td>\n",
       "      <td>-35</td>\n",
       "      <td>-35</td>\n",
       "      <td>-36</td>\n",
       "      <td>5</td>\n",
       "    </tr>\n",
       "    <tr>\n",
       "      <th>3</th>\n",
       "      <td>X16.V1.60</td>\n",
       "      <td>-105</td>\n",
       "      <td>-101</td>\n",
       "      <td>-96</td>\n",
       "      <td>-92</td>\n",
       "      <td>-89</td>\n",
       "      <td>-95</td>\n",
       "      <td>-102</td>\n",
       "      <td>-100</td>\n",
       "      <td>-87</td>\n",
       "      <td>...</td>\n",
       "      <td>-82</td>\n",
       "      <td>-81</td>\n",
       "      <td>-80</td>\n",
       "      <td>-77</td>\n",
       "      <td>-85</td>\n",
       "      <td>-77</td>\n",
       "      <td>-72</td>\n",
       "      <td>-69</td>\n",
       "      <td>-65</td>\n",
       "      <td>5</td>\n",
       "    </tr>\n",
       "    <tr>\n",
       "      <th>4</th>\n",
       "      <td>X20.V1.54</td>\n",
       "      <td>-9</td>\n",
       "      <td>-65</td>\n",
       "      <td>-98</td>\n",
       "      <td>-102</td>\n",
       "      <td>-78</td>\n",
       "      <td>-48</td>\n",
       "      <td>-16</td>\n",
       "      <td>0</td>\n",
       "      <td>-21</td>\n",
       "      <td>...</td>\n",
       "      <td>4</td>\n",
       "      <td>2</td>\n",
       "      <td>-12</td>\n",
       "      <td>-32</td>\n",
       "      <td>-41</td>\n",
       "      <td>-65</td>\n",
       "      <td>-83</td>\n",
       "      <td>-89</td>\n",
       "      <td>-73</td>\n",
       "      <td>5</td>\n",
       "    </tr>\n",
       "  </tbody>\n",
       "</table>\n",
       "<p>5 rows × 180 columns</p>\n",
       "</div>"
      ],
      "text/plain": [
       "   Unnamed: 0   X1   X2   X3   X4   X5   X6   X7   X8   X9  ...  X170  X171  \\\n",
       "0  X21.V1.791  135  190  229  223  192  125   55   -9  -33  ...   -17   -15   \n",
       "1  X15.V1.924  386  382  356  331  320  315  307  272  244  ...   164   150   \n",
       "2     X8.V1.1  -32  -39  -47  -37  -32  -36  -57  -73  -85  ...    57    64   \n",
       "3   X16.V1.60 -105 -101  -96  -92  -89  -95 -102 -100  -87  ...   -82   -81   \n",
       "4   X20.V1.54   -9  -65  -98 -102  -78  -48  -16    0  -21  ...     4     2   \n",
       "\n",
       "   X172  X173  X174  X175  X176  X177  X178  y  \n",
       "0   -31   -77  -103  -127  -116   -83   -51  4  \n",
       "1   146   152   157   156   154   143   129  1  \n",
       "2    48    19   -12   -30   -35   -35   -36  5  \n",
       "3   -80   -77   -85   -77   -72   -69   -65  5  \n",
       "4   -12   -32   -41   -65   -83   -89   -73  5  \n",
       "\n",
       "[5 rows x 180 columns]"
      ]
     },
     "execution_count": 3,
     "metadata": {},
     "output_type": "execute_result"
    }
   ],
   "source": [
    "# Carregando o arquivo \"dados_originais.csv\":\n",
    "df_data = pd.read_csv(filepath_or_buffer=DATA_FILE_PATH)\n",
    "# Visualizando os primeiros registros:\n",
    "df_data.head()"
   ]
  },
  {
   "cell_type": "code",
   "execution_count": 4,
   "metadata": {},
   "outputs": [
    {
     "name": "stdout",
     "output_type": "stream",
     "text": [
      "O dataset possui 11500 linhas e 180 colunas.\n"
     ]
    }
   ],
   "source": [
    "# Shape dos dados:\n",
    "print(\"O dataset possui {} linhas e {} colunas.\".format(df_data.shape[0], df_data.shape[1]))"
   ]
  },
  {
   "cell_type": "markdown",
   "metadata": {},
   "source": [
    "**Análise:**\n",
    "\n",
    "1. a primeira coluna (`Unnamed: 0`) do conjuto de dados não possui qualquer informação relevante para o projeto e, portanto, deverá ser eliminada na etapa de **preparação dos dados**;\n",
    "\n",
    "2. embora existam 5 classes, neste projeto vamos realizar a **classificação binária**, ou seja, a classe **1** (**convulsão epilética**) contra as demais classes que neste caso serão representadas pela classe **0**. Portanto, a variável target **`y`** deverá ser transformada em **duas classes** na etapa de **preparação dos dados**."
   ]
  },
  {
   "cell_type": "markdown",
   "metadata": {},
   "source": [
    "## 3- Analisar informações duplicadas no *dataset*"
   ]
  },
  {
   "cell_type": "code",
   "execution_count": 5,
   "metadata": {},
   "outputs": [
    {
     "name": "stdout",
     "output_type": "stream",
     "text": [
      "Número de linhas duplicadas no dataset: 0\n"
     ]
    }
   ],
   "source": [
    "# Verificando se existem registros/linhas duplicadas no Data Frame \"df_data\":\n",
    "# Checando se temos linhas duplicadas:\n",
    "index = df_data.duplicated()\n",
    "print(\"Número de linhas duplicadas no dataset: {}\".format(df_data[index].shape[0]))"
   ]
  },
  {
   "cell_type": "code",
   "execution_count": 6,
   "metadata": {},
   "outputs": [
    {
     "name": "stdout",
     "output_type": "stream",
     "text": [
      "Número de colunas duplicadas no dataset: 0\n"
     ]
    }
   ],
   "source": [
    "# Verificando se existem colunas duplicadas no Data Frame \"df_data\":\n",
    "cols = list(df_data.columns)\n",
    "dup_cols = [x for x in cols if cols.count(x) > 1]\n",
    "print(\"Número de colunas duplicadas no dataset: {}\".format(len(dup_cols)))"
   ]
  },
  {
   "cell_type": "markdown",
   "metadata": {},
   "source": [
    "**Análise:** o conjuto de dados **não possui informações duplicadas**."
   ]
  },
  {
   "cell_type": "markdown",
   "metadata": {},
   "source": [
    "## 4- Analisar se existem *missing values* (*`NaN`*) no *dataset*"
   ]
  },
  {
   "cell_type": "code",
   "execution_count": 7,
   "metadata": {
    "scrolled": true
   },
   "outputs": [
    {
     "name": "stdout",
     "output_type": "stream",
     "text": [
      "Número de valores ausentes (NaN) no dataset: 0\n"
     ]
    }
   ],
   "source": [
    "# Verificando se existem valores ausentes no Data Frame \"df_data\":\n",
    "print(\"Número de valores ausentes (NaN) no dataset: {}\".format(df_data.isnull().sum().sum()))"
   ]
  },
  {
   "cell_type": "markdown",
   "metadata": {},
   "source": [
    "**Análise:** o conjuto de dados **não possui valores ausentes (`NaN`)**."
   ]
  },
  {
   "cell_type": "markdown",
   "metadata": {},
   "source": [
    "## 5- Criando os *datasets*: treino (`df_train`) e teste (`df_test`)"
   ]
  },
  {
   "cell_type": "markdown",
   "metadata": {},
   "source": [
    "Embora o nosso dataset não seja pequeno (especialmente em relação ao número de atributos), se utilizarmos um método de amostragem puramente aleatório correremos o risco do resultado apresentar um viés significativo de amostragem. Portanto, utilizaremos o método de *amostragem estratificada*, utilizando a nossa variável target (**`y`**), para termos as mesmas proporções de classes (**1, 2, 3, 4 e 5**) nos dois conjuntos de dados (treino e teste) gerados.\n",
    "\n",
    "***amostragem estratificada***: a população é dividida em subgrupos homogêneos, chamados de *estratos*, e o número certo de instâncias de cada estrato é amostrado para garantir que o conjunto de testes seja representativo da população em geral."
   ]
  },
  {
   "cell_type": "markdown",
   "metadata": {},
   "source": [
    "Vamos comparar os dois métodos de amostragem: ***aleatório x estratificado***"
   ]
  },
  {
   "cell_type": "markdown",
   "metadata": {},
   "source": [
    "Primeiro, vamos criar um conjunto de dados de teste utilizando o método `sample`, ou seja, utilizando o método de ***amostragem puramente aleatória***:"
   ]
  },
  {
   "cell_type": "code",
   "execution_count": 8,
   "metadata": {},
   "outputs": [],
   "source": [
    "# Criando os datasets de treino e teste através de amostragem puramente aleatória:\n",
    "# Embaralhando os dados (11500 linhas) de forma aleatória:\n",
    "df_data_temp = df_data.sample(n = len(df_data), random_state=SEED, ignore_index=True)\n",
    "\n",
    "# Selecionando 20% para os dados de teste:\n",
    "random_test_set = df_data_temp.sample(frac = 0.2, random_state=SEED)\n",
    "# Selecionando 80% para os dados de treino:\n",
    "random_train_set = df_data_temp.drop(random_test_set.index)"
   ]
  },
  {
   "cell_type": "markdown",
   "metadata": {},
   "source": [
    "Agora, vamos análisar as proporções da categoria **`y`** nos conjuntos de dados completo (*df_data*), de treino (*random_train_set*) e de teste (*random_train_set*):"
   ]
  },
  {
   "cell_type": "code",
   "execution_count": 9,
   "metadata": {},
   "outputs": [
    {
     "data": {
      "text/html": [
       "<div>\n",
       "<style scoped>\n",
       "    .dataframe tbody tr th:only-of-type {\n",
       "        vertical-align: middle;\n",
       "    }\n",
       "\n",
       "    .dataframe tbody tr th {\n",
       "        vertical-align: top;\n",
       "    }\n",
       "\n",
       "    .dataframe thead th {\n",
       "        text-align: right;\n",
       "    }\n",
       "</style>\n",
       "<table border=\"1\" class=\"dataframe\">\n",
       "  <thead>\n",
       "    <tr style=\"text-align: right;\">\n",
       "      <th></th>\n",
       "      <th>Original Set</th>\n",
       "      <th>Random Train Set</th>\n",
       "      <th>Random Test Set</th>\n",
       "    </tr>\n",
       "  </thead>\n",
       "  <tbody>\n",
       "    <tr>\n",
       "      <th>1</th>\n",
       "      <td>0.2</td>\n",
       "      <td>0.201413</td>\n",
       "      <td>0.194348</td>\n",
       "    </tr>\n",
       "    <tr>\n",
       "      <th>2</th>\n",
       "      <td>0.2</td>\n",
       "      <td>0.200326</td>\n",
       "      <td>0.198696</td>\n",
       "    </tr>\n",
       "    <tr>\n",
       "      <th>3</th>\n",
       "      <td>0.2</td>\n",
       "      <td>0.198043</td>\n",
       "      <td>0.207826</td>\n",
       "    </tr>\n",
       "    <tr>\n",
       "      <th>4</th>\n",
       "      <td>0.2</td>\n",
       "      <td>0.200870</td>\n",
       "      <td>0.196522</td>\n",
       "    </tr>\n",
       "    <tr>\n",
       "      <th>5</th>\n",
       "      <td>0.2</td>\n",
       "      <td>0.199348</td>\n",
       "      <td>0.202609</td>\n",
       "    </tr>\n",
       "  </tbody>\n",
       "</table>\n",
       "</div>"
      ],
      "text/plain": [
       "   Original Set  Random Train Set  Random Test Set\n",
       "1           0.2          0.201413         0.194348\n",
       "2           0.2          0.200326         0.198696\n",
       "3           0.2          0.198043         0.207826\n",
       "4           0.2          0.200870         0.196522\n",
       "5           0.2          0.199348         0.202609"
      ]
     },
     "execution_count": 9,
     "metadata": {},
     "output_type": "execute_result"
    }
   ],
   "source": [
    "# Calculando as proporções de cada categoria nos 3 conjuntos de dados:\n",
    "proportions_cat = pd.DataFrame(\n",
    "    {'Original Set': df_data[\"y\"].value_counts() / len(df_data),\n",
    "     'Random Train Set': random_train_set[\"y\"].value_counts() / len(random_train_set),\n",
    "     'Random Test Set': random_test_set[\"y\"].value_counts() / len(random_test_set)\n",
    "    }\n",
    ")\n",
    "\n",
    "proportions_cat       "
   ]
  },
  {
   "cell_type": "markdown",
   "metadata": {},
   "source": [
    "**Análise:** observe que as proporções de cada *classe* (**1, 2, 3, 4 e 5**) não são iguais nos três *datasets*!"
   ]
  },
  {
   "cell_type": "markdown",
   "metadata": {},
   "source": [
    "Agora, vamos criar o nosso conjunto de dados de teste utilizando o método de ***amostragem estratificada*** com base na categoria da nossa variável target (**`y`**):"
   ]
  },
  {
   "cell_type": "code",
   "execution_count": 10,
   "metadata": {},
   "outputs": [],
   "source": [
    "# Criando a instância:\n",
    "split = StratifiedShuffleSplit(n_splits=1, test_size=0.2, random_state=SEED)\n",
    "\n",
    "# Criando os datasets de treino e teste utilizando amostragem estratificada:\n",
    "for train_index, test_index in split.split(df_data, df_data[\"y\"]):\n",
    "    strat_train_set = df_data.loc[train_index]\n",
    "    strat_test_set = df_data.loc[test_index]"
   ]
  },
  {
   "cell_type": "markdown",
   "metadata": {},
   "source": [
    "Agora, vamos análisar as proporções da categoria **`y`** nos conjuntos de dados completo (*df_data*), de treino (*strat_train_set*) e de teste (*strat_train_set*):"
   ]
  },
  {
   "cell_type": "code",
   "execution_count": 11,
   "metadata": {},
   "outputs": [
    {
     "data": {
      "text/html": [
       "<div>\n",
       "<style scoped>\n",
       "    .dataframe tbody tr th:only-of-type {\n",
       "        vertical-align: middle;\n",
       "    }\n",
       "\n",
       "    .dataframe tbody tr th {\n",
       "        vertical-align: top;\n",
       "    }\n",
       "\n",
       "    .dataframe thead th {\n",
       "        text-align: right;\n",
       "    }\n",
       "</style>\n",
       "<table border=\"1\" class=\"dataframe\">\n",
       "  <thead>\n",
       "    <tr style=\"text-align: right;\">\n",
       "      <th></th>\n",
       "      <th>Original Set</th>\n",
       "      <th>Strat Train Set</th>\n",
       "      <th>Strat Test Set</th>\n",
       "    </tr>\n",
       "  </thead>\n",
       "  <tbody>\n",
       "    <tr>\n",
       "      <th>1</th>\n",
       "      <td>0.2</td>\n",
       "      <td>0.2</td>\n",
       "      <td>0.2</td>\n",
       "    </tr>\n",
       "    <tr>\n",
       "      <th>2</th>\n",
       "      <td>0.2</td>\n",
       "      <td>0.2</td>\n",
       "      <td>0.2</td>\n",
       "    </tr>\n",
       "    <tr>\n",
       "      <th>3</th>\n",
       "      <td>0.2</td>\n",
       "      <td>0.2</td>\n",
       "      <td>0.2</td>\n",
       "    </tr>\n",
       "    <tr>\n",
       "      <th>4</th>\n",
       "      <td>0.2</td>\n",
       "      <td>0.2</td>\n",
       "      <td>0.2</td>\n",
       "    </tr>\n",
       "    <tr>\n",
       "      <th>5</th>\n",
       "      <td>0.2</td>\n",
       "      <td>0.2</td>\n",
       "      <td>0.2</td>\n",
       "    </tr>\n",
       "  </tbody>\n",
       "</table>\n",
       "</div>"
      ],
      "text/plain": [
       "   Original Set  Strat Train Set  Strat Test Set\n",
       "1           0.2              0.2             0.2\n",
       "2           0.2              0.2             0.2\n",
       "3           0.2              0.2             0.2\n",
       "4           0.2              0.2             0.2\n",
       "5           0.2              0.2             0.2"
      ]
     },
     "execution_count": 11,
     "metadata": {},
     "output_type": "execute_result"
    }
   ],
   "source": [
    "# Calculando as proporções de cada categoria nos 3 conjuntos de dados:\n",
    "proportions_cat = pd.DataFrame(\n",
    "    {'Original Set': df_data[\"y\"].value_counts() / len(df_data),\n",
    "     'Strat Train Set': strat_train_set[\"y\"].value_counts() / len(strat_train_set),\n",
    "     'Strat Test Set': strat_test_set[\"y\"].value_counts() / len(strat_test_set)\n",
    "    }\n",
    ")\n",
    "\n",
    "proportions_cat                            "
   ]
  },
  {
   "cell_type": "markdown",
   "metadata": {},
   "source": [
    "**Análise:** observe que as proporções de cada *classe* (**1, 2, 3, 4 e 5**) são iguais nos três *datasets*!"
   ]
  },
  {
   "cell_type": "markdown",
   "metadata": {},
   "source": [
    "Vamos comparar as proporções da categoria de **`y`** no conjunto de dados completo (**df_data**), no conjunto de teste gerado com a amostragem estratificada (**strat_test_set**), e em um conjunto de teste gerado a partir da amostragem puramente aleatória (**test_set**):"
   ]
  },
  {
   "cell_type": "code",
   "execution_count": 12,
   "metadata": {},
   "outputs": [],
   "source": [
    "# Definindo uma função para calcular as proporções de cada categoria da variável target \"y\":\n",
    "def data_cat_proportions(data):\n",
    "    return data[\"y\"].value_counts() / len(data)\n",
    "\n",
    "# Criando um Data Frame para comparação de viés de amostragem estratificada versus amostragem aleatória: \n",
    "compare_props = pd.DataFrame({\n",
    "    \"Overall\": data_cat_proportions(df_data),\n",
    "    \"Stratified\": data_cat_proportions(strat_test_set),\n",
    "    \"Random\": data_cat_proportions(random_test_set),\n",
    "}).sort_index()\n",
    "\n",
    "# Calculando a taxa de erro da amostragem aleatória:\n",
    "compare_props[\"Rand. %error\"] = 100 * compare_props[\"Random\"] / compare_props[\"Overall\"] - 100\n",
    "\n",
    "# Calculando a taxa de erro da amostragem estratificada:\n",
    "compare_props[\"Strat. %error\"] = 100 * compare_props[\"Stratified\"] / compare_props[\"Overall\"] - 100"
   ]
  },
  {
   "cell_type": "code",
   "execution_count": 13,
   "metadata": {},
   "outputs": [
    {
     "data": {
      "text/html": [
       "<div>\n",
       "<style scoped>\n",
       "    .dataframe tbody tr th:only-of-type {\n",
       "        vertical-align: middle;\n",
       "    }\n",
       "\n",
       "    .dataframe tbody tr th {\n",
       "        vertical-align: top;\n",
       "    }\n",
       "\n",
       "    .dataframe thead th {\n",
       "        text-align: right;\n",
       "    }\n",
       "</style>\n",
       "<table border=\"1\" class=\"dataframe\">\n",
       "  <thead>\n",
       "    <tr style=\"text-align: right;\">\n",
       "      <th></th>\n",
       "      <th>Overall</th>\n",
       "      <th>Stratified</th>\n",
       "      <th>Random</th>\n",
       "      <th>Rand. %error</th>\n",
       "      <th>Strat. %error</th>\n",
       "    </tr>\n",
       "  </thead>\n",
       "  <tbody>\n",
       "    <tr>\n",
       "      <th>1</th>\n",
       "      <td>0.2</td>\n",
       "      <td>0.2</td>\n",
       "      <td>0.194348</td>\n",
       "      <td>-2.826087</td>\n",
       "      <td>0.0</td>\n",
       "    </tr>\n",
       "    <tr>\n",
       "      <th>2</th>\n",
       "      <td>0.2</td>\n",
       "      <td>0.2</td>\n",
       "      <td>0.198696</td>\n",
       "      <td>-0.652174</td>\n",
       "      <td>0.0</td>\n",
       "    </tr>\n",
       "    <tr>\n",
       "      <th>3</th>\n",
       "      <td>0.2</td>\n",
       "      <td>0.2</td>\n",
       "      <td>0.207826</td>\n",
       "      <td>3.913043</td>\n",
       "      <td>0.0</td>\n",
       "    </tr>\n",
       "    <tr>\n",
       "      <th>4</th>\n",
       "      <td>0.2</td>\n",
       "      <td>0.2</td>\n",
       "      <td>0.196522</td>\n",
       "      <td>-1.739130</td>\n",
       "      <td>0.0</td>\n",
       "    </tr>\n",
       "    <tr>\n",
       "      <th>5</th>\n",
       "      <td>0.2</td>\n",
       "      <td>0.2</td>\n",
       "      <td>0.202609</td>\n",
       "      <td>1.304348</td>\n",
       "      <td>0.0</td>\n",
       "    </tr>\n",
       "  </tbody>\n",
       "</table>\n",
       "</div>"
      ],
      "text/plain": [
       "   Overall  Stratified    Random  Rand. %error  Strat. %error\n",
       "1      0.2         0.2  0.194348     -2.826087            0.0\n",
       "2      0.2         0.2  0.198696     -0.652174            0.0\n",
       "3      0.2         0.2  0.207826      3.913043            0.0\n",
       "4      0.2         0.2  0.196522     -1.739130            0.0\n",
       "5      0.2         0.2  0.202609      1.304348            0.0"
      ]
     },
     "execution_count": 13,
     "metadata": {},
     "output_type": "execute_result"
    }
   ],
   "source": [
    "# Visualizando os resultados:\n",
    "compare_props"
   ]
  },
  {
   "cell_type": "markdown",
   "metadata": {},
   "source": [
    "Como podemos observar nos resultados acima, o conjunto de teste gerado com a utilização da amostragem estratificada (**Stratified**) têm proporções de cada categoria (variável **`y`**) idênticas às do conjunto completo de dados (**Overall**), enquanto que no conjunto de testes gerado com amostragem puramente aleatória (**Random**) as proporções são bastantes distorcidas, ou seja, as taxas de erro são bem maiores."
   ]
  },
  {
   "cell_type": "code",
   "execution_count": 14,
   "metadata": {},
   "outputs": [
    {
     "data": {
      "text/html": [
       "<div>\n",
       "<style scoped>\n",
       "    .dataframe tbody tr th:only-of-type {\n",
       "        vertical-align: middle;\n",
       "    }\n",
       "\n",
       "    .dataframe tbody tr th {\n",
       "        vertical-align: top;\n",
       "    }\n",
       "\n",
       "    .dataframe thead th {\n",
       "        text-align: right;\n",
       "    }\n",
       "</style>\n",
       "<table border=\"1\" class=\"dataframe\">\n",
       "  <thead>\n",
       "    <tr style=\"text-align: right;\">\n",
       "      <th></th>\n",
       "      <th>Unnamed: 0</th>\n",
       "      <th>X1</th>\n",
       "      <th>X2</th>\n",
       "      <th>X3</th>\n",
       "      <th>X4</th>\n",
       "      <th>X5</th>\n",
       "      <th>X6</th>\n",
       "      <th>X7</th>\n",
       "      <th>X8</th>\n",
       "      <th>X9</th>\n",
       "      <th>...</th>\n",
       "      <th>X170</th>\n",
       "      <th>X171</th>\n",
       "      <th>X172</th>\n",
       "      <th>X173</th>\n",
       "      <th>X174</th>\n",
       "      <th>X175</th>\n",
       "      <th>X176</th>\n",
       "      <th>X177</th>\n",
       "      <th>X178</th>\n",
       "      <th>y</th>\n",
       "    </tr>\n",
       "  </thead>\n",
       "  <tbody>\n",
       "    <tr>\n",
       "      <th>0</th>\n",
       "      <td>X5.V1.617</td>\n",
       "      <td>57</td>\n",
       "      <td>-36</td>\n",
       "      <td>-111</td>\n",
       "      <td>-185</td>\n",
       "      <td>-257</td>\n",
       "      <td>-324</td>\n",
       "      <td>-369</td>\n",
       "      <td>-394</td>\n",
       "      <td>-387</td>\n",
       "      <td>...</td>\n",
       "      <td>503</td>\n",
       "      <td>703</td>\n",
       "      <td>669</td>\n",
       "      <td>565</td>\n",
       "      <td>461</td>\n",
       "      <td>345</td>\n",
       "      <td>207</td>\n",
       "      <td>64</td>\n",
       "      <td>-88</td>\n",
       "      <td>1</td>\n",
       "    </tr>\n",
       "    <tr>\n",
       "      <th>1</th>\n",
       "      <td>X21.V1.893</td>\n",
       "      <td>-69</td>\n",
       "      <td>-67</td>\n",
       "      <td>-60</td>\n",
       "      <td>-62</td>\n",
       "      <td>-66</td>\n",
       "      <td>-66</td>\n",
       "      <td>-59</td>\n",
       "      <td>-56</td>\n",
       "      <td>-51</td>\n",
       "      <td>...</td>\n",
       "      <td>-67</td>\n",
       "      <td>-68</td>\n",
       "      <td>-63</td>\n",
       "      <td>-53</td>\n",
       "      <td>-42</td>\n",
       "      <td>-32</td>\n",
       "      <td>-24</td>\n",
       "      <td>-13</td>\n",
       "      <td>-4</td>\n",
       "      <td>2</td>\n",
       "    </tr>\n",
       "    <tr>\n",
       "      <th>2</th>\n",
       "      <td>X5.V1.90</td>\n",
       "      <td>-78</td>\n",
       "      <td>-75</td>\n",
       "      <td>-68</td>\n",
       "      <td>-57</td>\n",
       "      <td>-26</td>\n",
       "      <td>-19</td>\n",
       "      <td>11</td>\n",
       "      <td>13</td>\n",
       "      <td>25</td>\n",
       "      <td>...</td>\n",
       "      <td>46</td>\n",
       "      <td>30</td>\n",
       "      <td>23</td>\n",
       "      <td>29</td>\n",
       "      <td>40</td>\n",
       "      <td>52</td>\n",
       "      <td>44</td>\n",
       "      <td>39</td>\n",
       "      <td>21</td>\n",
       "      <td>5</td>\n",
       "    </tr>\n",
       "    <tr>\n",
       "      <th>3</th>\n",
       "      <td>X17.V1.583</td>\n",
       "      <td>1</td>\n",
       "      <td>2</td>\n",
       "      <td>11</td>\n",
       "      <td>21</td>\n",
       "      <td>25</td>\n",
       "      <td>35</td>\n",
       "      <td>43</td>\n",
       "      <td>50</td>\n",
       "      <td>54</td>\n",
       "      <td>...</td>\n",
       "      <td>22</td>\n",
       "      <td>19</td>\n",
       "      <td>15</td>\n",
       "      <td>14</td>\n",
       "      <td>14</td>\n",
       "      <td>15</td>\n",
       "      <td>15</td>\n",
       "      <td>9</td>\n",
       "      <td>3</td>\n",
       "      <td>2</td>\n",
       "    </tr>\n",
       "    <tr>\n",
       "      <th>4</th>\n",
       "      <td>X8.V1.103</td>\n",
       "      <td>-111</td>\n",
       "      <td>-105</td>\n",
       "      <td>-100</td>\n",
       "      <td>-91</td>\n",
       "      <td>-84</td>\n",
       "      <td>-76</td>\n",
       "      <td>-74</td>\n",
       "      <td>-68</td>\n",
       "      <td>-54</td>\n",
       "      <td>...</td>\n",
       "      <td>2</td>\n",
       "      <td>3</td>\n",
       "      <td>5</td>\n",
       "      <td>8</td>\n",
       "      <td>10</td>\n",
       "      <td>6</td>\n",
       "      <td>1</td>\n",
       "      <td>-3</td>\n",
       "      <td>-13</td>\n",
       "      <td>2</td>\n",
       "    </tr>\n",
       "  </tbody>\n",
       "</table>\n",
       "<p>5 rows × 180 columns</p>\n",
       "</div>"
      ],
      "text/plain": [
       "   Unnamed: 0   X1   X2   X3   X4   X5   X6   X7   X8   X9  ...  X170  X171  \\\n",
       "0   X5.V1.617   57  -36 -111 -185 -257 -324 -369 -394 -387  ...   503   703   \n",
       "1  X21.V1.893  -69  -67  -60  -62  -66  -66  -59  -56  -51  ...   -67   -68   \n",
       "2    X5.V1.90  -78  -75  -68  -57  -26  -19   11   13   25  ...    46    30   \n",
       "3  X17.V1.583    1    2   11   21   25   35   43   50   54  ...    22    19   \n",
       "4   X8.V1.103 -111 -105 -100  -91  -84  -76  -74  -68  -54  ...     2     3   \n",
       "\n",
       "   X172  X173  X174  X175  X176  X177  X178  y  \n",
       "0   669   565   461   345   207    64   -88  1  \n",
       "1   -63   -53   -42   -32   -24   -13    -4  2  \n",
       "2    23    29    40    52    44    39    21  5  \n",
       "3    15    14    14    15    15     9     3  2  \n",
       "4     5     8    10     6     1    -3   -13  2  \n",
       "\n",
       "[5 rows x 180 columns]"
      ]
     },
     "execution_count": 14,
     "metadata": {},
     "output_type": "execute_result"
    }
   ],
   "source": [
    "# Reset no índice do data frame de treinamento:\n",
    "strat_train_set.reset_index(drop=True, inplace=True)\n",
    "\n",
    "# Visualizando as primeiras instâncias do dataset de treino (strat_train_set):\n",
    "strat_train_set.head()"
   ]
  },
  {
   "cell_type": "code",
   "execution_count": 15,
   "metadata": {},
   "outputs": [
    {
     "data": {
      "text/html": [
       "<div>\n",
       "<style scoped>\n",
       "    .dataframe tbody tr th:only-of-type {\n",
       "        vertical-align: middle;\n",
       "    }\n",
       "\n",
       "    .dataframe tbody tr th {\n",
       "        vertical-align: top;\n",
       "    }\n",
       "\n",
       "    .dataframe thead th {\n",
       "        text-align: right;\n",
       "    }\n",
       "</style>\n",
       "<table border=\"1\" class=\"dataframe\">\n",
       "  <thead>\n",
       "    <tr style=\"text-align: right;\">\n",
       "      <th></th>\n",
       "      <th>Unnamed: 0</th>\n",
       "      <th>X1</th>\n",
       "      <th>X2</th>\n",
       "      <th>X3</th>\n",
       "      <th>X4</th>\n",
       "      <th>X5</th>\n",
       "      <th>X6</th>\n",
       "      <th>X7</th>\n",
       "      <th>X8</th>\n",
       "      <th>X9</th>\n",
       "      <th>...</th>\n",
       "      <th>X170</th>\n",
       "      <th>X171</th>\n",
       "      <th>X172</th>\n",
       "      <th>X173</th>\n",
       "      <th>X174</th>\n",
       "      <th>X175</th>\n",
       "      <th>X176</th>\n",
       "      <th>X177</th>\n",
       "      <th>X178</th>\n",
       "      <th>y</th>\n",
       "    </tr>\n",
       "  </thead>\n",
       "  <tbody>\n",
       "    <tr>\n",
       "      <th>0</th>\n",
       "      <td>X21.V1.794</td>\n",
       "      <td>403</td>\n",
       "      <td>501</td>\n",
       "      <td>631</td>\n",
       "      <td>710</td>\n",
       "      <td>679</td>\n",
       "      <td>526</td>\n",
       "      <td>297</td>\n",
       "      <td>25</td>\n",
       "      <td>-274</td>\n",
       "      <td>...</td>\n",
       "      <td>655</td>\n",
       "      <td>669</td>\n",
       "      <td>592</td>\n",
       "      <td>422</td>\n",
       "      <td>160</td>\n",
       "      <td>-160</td>\n",
       "      <td>-471</td>\n",
       "      <td>-754</td>\n",
       "      <td>-924</td>\n",
       "      <td>1</td>\n",
       "    </tr>\n",
       "    <tr>\n",
       "      <th>1</th>\n",
       "      <td>X20.V1.321</td>\n",
       "      <td>17</td>\n",
       "      <td>25</td>\n",
       "      <td>40</td>\n",
       "      <td>46</td>\n",
       "      <td>31</td>\n",
       "      <td>1</td>\n",
       "      <td>-19</td>\n",
       "      <td>-30</td>\n",
       "      <td>-28</td>\n",
       "      <td>...</td>\n",
       "      <td>-1</td>\n",
       "      <td>-33</td>\n",
       "      <td>-54</td>\n",
       "      <td>-52</td>\n",
       "      <td>-26</td>\n",
       "      <td>-1</td>\n",
       "      <td>19</td>\n",
       "      <td>19</td>\n",
       "      <td>-3</td>\n",
       "      <td>4</td>\n",
       "    </tr>\n",
       "    <tr>\n",
       "      <th>2</th>\n",
       "      <td>X15.V1.274</td>\n",
       "      <td>-643</td>\n",
       "      <td>-726</td>\n",
       "      <td>-725</td>\n",
       "      <td>-628</td>\n",
       "      <td>-472</td>\n",
       "      <td>-239</td>\n",
       "      <td>33</td>\n",
       "      <td>363</td>\n",
       "      <td>679</td>\n",
       "      <td>...</td>\n",
       "      <td>-373</td>\n",
       "      <td>-400</td>\n",
       "      <td>-450</td>\n",
       "      <td>-523</td>\n",
       "      <td>-556</td>\n",
       "      <td>-556</td>\n",
       "      <td>-454</td>\n",
       "      <td>-276</td>\n",
       "      <td>-30</td>\n",
       "      <td>1</td>\n",
       "    </tr>\n",
       "    <tr>\n",
       "      <th>3</th>\n",
       "      <td>X19.V1.354</td>\n",
       "      <td>-47</td>\n",
       "      <td>-11</td>\n",
       "      <td>28</td>\n",
       "      <td>77</td>\n",
       "      <td>141</td>\n",
       "      <td>211</td>\n",
       "      <td>246</td>\n",
       "      <td>240</td>\n",
       "      <td>193</td>\n",
       "      <td>...</td>\n",
       "      <td>-65</td>\n",
       "      <td>-33</td>\n",
       "      <td>-7</td>\n",
       "      <td>14</td>\n",
       "      <td>27</td>\n",
       "      <td>48</td>\n",
       "      <td>77</td>\n",
       "      <td>117</td>\n",
       "      <td>170</td>\n",
       "      <td>1</td>\n",
       "    </tr>\n",
       "    <tr>\n",
       "      <th>4</th>\n",
       "      <td>X12.V1.132</td>\n",
       "      <td>-35</td>\n",
       "      <td>-40</td>\n",
       "      <td>-41</td>\n",
       "      <td>-52</td>\n",
       "      <td>-64</td>\n",
       "      <td>-83</td>\n",
       "      <td>-100</td>\n",
       "      <td>-101</td>\n",
       "      <td>-91</td>\n",
       "      <td>...</td>\n",
       "      <td>-72</td>\n",
       "      <td>-64</td>\n",
       "      <td>-64</td>\n",
       "      <td>-67</td>\n",
       "      <td>-66</td>\n",
       "      <td>-64</td>\n",
       "      <td>-70</td>\n",
       "      <td>-81</td>\n",
       "      <td>-99</td>\n",
       "      <td>3</td>\n",
       "    </tr>\n",
       "  </tbody>\n",
       "</table>\n",
       "<p>5 rows × 180 columns</p>\n",
       "</div>"
      ],
      "text/plain": [
       "   Unnamed: 0   X1   X2   X3   X4   X5   X6   X7   X8   X9  ...  X170  X171  \\\n",
       "0  X21.V1.794  403  501  631  710  679  526  297   25 -274  ...   655   669   \n",
       "1  X20.V1.321   17   25   40   46   31    1  -19  -30  -28  ...    -1   -33   \n",
       "2  X15.V1.274 -643 -726 -725 -628 -472 -239   33  363  679  ...  -373  -400   \n",
       "3  X19.V1.354  -47  -11   28   77  141  211  246  240  193  ...   -65   -33   \n",
       "4  X12.V1.132  -35  -40  -41  -52  -64  -83 -100 -101  -91  ...   -72   -64   \n",
       "\n",
       "   X172  X173  X174  X175  X176  X177  X178  y  \n",
       "0   592   422   160  -160  -471  -754  -924  1  \n",
       "1   -54   -52   -26    -1    19    19    -3  4  \n",
       "2  -450  -523  -556  -556  -454  -276   -30  1  \n",
       "3    -7    14    27    48    77   117   170  1  \n",
       "4   -64   -67   -66   -64   -70   -81   -99  3  \n",
       "\n",
       "[5 rows x 180 columns]"
      ]
     },
     "execution_count": 15,
     "metadata": {},
     "output_type": "execute_result"
    }
   ],
   "source": [
    "# Reset no índice do data frame de teste:\n",
    "strat_test_set.reset_index(drop=True, inplace=True)\n",
    "\n",
    "# Visualizando as primeiras instâncias do dataset de teste (strat_test_set):\n",
    "strat_test_set.head()"
   ]
  },
  {
   "cell_type": "code",
   "execution_count": 16,
   "metadata": {},
   "outputs": [
    {
     "name": "stdout",
     "output_type": "stream",
     "text": [
      "O conjunto de dados de treino possui 9200 linhas (80%).\n",
      "O conjunto de dados de teste possui 2300 linhas (20%).\n"
     ]
    }
   ],
   "source": [
    "# Verificando a quantidade de registros em cada dataset (treino e teste):\n",
    "print(\"O conjunto de dados de treino possui {} linhas ({}%).\".format(len(strat_train_set),\n",
    "      int(len(strat_train_set)/len(df_data)*100)))\n",
    "print(\"O conjunto de dados de teste possui {} linhas ({}%).\".format(len(strat_test_set),\n",
    "      int(len(strat_test_set)/len(df_data)*100)))"
   ]
  },
  {
   "cell_type": "markdown",
   "metadata": {},
   "source": [
    "## 6- Salvando os *data frames*: treino (`strat_train_set`) e teste (`strat_test_set`)"
   ]
  },
  {
   "cell_type": "markdown",
   "metadata": {},
   "source": [
    "Agora, vamos salvar os *data frames* de treino (`start_train_set`) e teste `strat_test_set`), que serão utilizados nas próximas etapas, a saber:\n",
    "\n",
    "1. **`strat_train_set.pck`:** é o *data frame* de treino criado por **amostragem estratificada** a partir do data frame `df_data`;\n",
    "\n",
    "2. **`strat_test_set.pck`:** é o *data frame* de teste criado por **amostragem estratificada** a partir do data frame `df_data`."
   ]
  },
  {
   "cell_type": "code",
   "execution_count": 17,
   "metadata": {},
   "outputs": [
    {
     "name": "stdout",
     "output_type": "stream",
     "text": [
      "O arquivo 'strat_train_set.pck' (data frame) foi salvo com sucesso!\n",
      "O arquivo 'strat_test_set.pck' (data frame) foi salvo com sucesso!\n"
     ]
    }
   ],
   "source": [
    "# Salvando o data frame \"strat_train_set\":\n",
    "dslib.pickle_object_save (\n",
    "    path=DATA_PATH, file=\"strat_train_set.pck\", object_name=strat_train_set,\n",
    "    msg=\"O arquivo 'strat_train_set.pck' (data frame) foi salvo com sucesso!\")\n",
    "\n",
    "# Salvando o data frame \"strat_train_set\":\n",
    "dslib.pickle_object_save (\n",
    "    path=DATA_PATH, file=\"strat_test_set.pck\", object_name=strat_test_set,\n",
    "    msg=\"O arquivo 'strat_test_set.pck' (data frame) foi salvo com sucesso!\")"
   ]
  },
  {
   "cell_type": "markdown",
   "metadata": {},
   "source": [
    "**Comentários:** concluímos a etapa de **compreensão dos dados**, onde criamos os nosso conjuntos de dados de treino (**strat_train_set.pck**) e de teste (**strat_test_set.pck**) que serão utilizados nas próximas etapas do projeto."
   ]
  },
  {
   "cell_type": "markdown",
   "metadata": {},
   "source": [
    "## <font color='black'>FIM</font>"
   ]
  }
 ],
 "metadata": {
  "kernelspec": {
   "display_name": "Python 3 (ipykernel)",
   "language": "python",
   "name": "python3"
  },
  "language_info": {
   "codemirror_mode": {
    "name": "ipython",
    "version": 3
   },
   "file_extension": ".py",
   "mimetype": "text/x-python",
   "name": "python",
   "nbconvert_exporter": "python",
   "pygments_lexer": "ipython3",
   "version": "3.7.11"
  }
 },
 "nbformat": 4,
 "nbformat_minor": 2
}
