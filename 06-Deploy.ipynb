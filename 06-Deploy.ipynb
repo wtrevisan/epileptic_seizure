{
 "cells": [
  {
   "cell_type": "markdown",
   "metadata": {},
   "source": [
    "***\n",
    "# `Project:` Prevendo a Ocorrências de Crises Epiléticas\n",
    "\n",
    "## `Date:` dezembro, 2021\n",
    "\n",
    "## `Data Scientist:` Walter Trevisan\n",
    "***"
   ]
  },
  {
   "cell_type": "markdown",
   "metadata": {},
   "source": [
    "## `Deploy do Modelo Preditivo`\n",
    "\n",
    "Nesta etapa, vamos utilizar o **modelo preditivo escolhido** para prever se **novos pacientes** terão (ou não) crises epiléticas de acordo com as informações obtidas no resultado do exame **EEG**.\n",
    "\n",
    "Então, neste etapa vamos realizar as seguintes atividades:\n",
    "\n",
    "1. Carregar os dados de um **novo paciente**;\n",
    "\n",
    "2. Preparar os dados do **novo paciente**;\n",
    "\n",
    "3. Prever se o novo paciente terá (ou não) uma crise epilética;\n",
    "\n",
    "4. Conclusão final."
   ]
  },
  {
   "cell_type": "markdown",
   "metadata": {},
   "source": [
    "## Setup:\n",
    "\n",
    "Primeiro, vamos carregar os **pacotes e funções** que serão utilizadas neste **notebook**."
   ]
  },
  {
   "cell_type": "code",
   "execution_count": 1,
   "metadata": {},
   "outputs": [
    {
     "name": "stdout",
     "output_type": "stream",
     "text": [
      "Setup Complete!\n"
     ]
    }
   ],
   "source": [
    "# As novas versões do Pandas e Matplotlib trazem diversas mensagens de aviso ao desenvolvedor.\n",
    "# Então, vamos desativar essas mensagens.\n",
    "import sys # O pacote \"sys\" permite manipulações com o sistema operacional:\n",
    "import os  # Operation System (Packages and Functions)\n",
    "import warnings\n",
    "if not sys.warnoptions:\n",
    "    warnings.simplefilter(\"ignore\")\n",
    "warnings.simplefilter(action='ignore', category=FutureWarning)\n",
    "warnings.filterwarnings(\"ignore\", category=FutureWarning)\n",
    "\n",
    "# Importa função para verificarmos a versão da linguagem python:\n",
    "from platform import python_version\n",
    "\n",
    "# Importando os pacote NumPy:\n",
    "import numpy as np\n",
    "# Importando os pacote Pandas:\n",
    "import pandas as pd\n",
    "\n",
    "# Definindo o diretório raiz (Root) onde serão armazenados todas as informações\n",
    "# (Imagens, Gráficos, Objetos, Dados, Modelos de ML, etc...) do projeto.\n",
    "# Diretório Raiz (Root) do Projeto:\n",
    "ROOT_DIR = \".\"\n",
    "\n",
    "# Path: onde ficarão armazenados os \"Objetos\" (Estrututras de Dados) relacionados ao Projeto:\n",
    "OBJ_PATH = os.path.join(ROOT_DIR, \"objects\")\n",
    "# Criando o diretório, se ele não existir:\n",
    "os.makedirs(OBJ_PATH, exist_ok=True)\n",
    "\n",
    "# Path: onde ficarão armazenados os \"datasets\" (arquivos \"csv\") e os \"objetos\" (Data Frames) do Projeto:\n",
    "DATA_PATH = os.path.join(ROOT_DIR, \"data\")\n",
    "# Path do arquivo \"csv\" que contém o conjunto de dados do Projeto:\n",
    "DATA_FILE_PATH = os.path.join(DATA_PATH, \"novo_paciente.csv\")\n",
    "# Criando o diretório, se ele não existir:\n",
    "os.makedirs(DATA_PATH, exist_ok=True)\n",
    "\n",
    "# Path: onde serão armazenadas as \"Imagens\" (Figuras e Gráficos) do Projeto:\n",
    "GRAPHICS_PATH = os.path.join(ROOT_DIR, \"images\", \"graphics\")\n",
    "# Criando o diretório, se ele não existir:\n",
    "os.makedirs(GRAPHICS_PATH, exist_ok=True)\n",
    "\n",
    "# Path: onde ficarão armazenados os \"Modelos Preditivos\" (Machine Learning) relacionados ao Projeto:\n",
    "ML_PATH = os.path.join(ROOT_DIR, \"models\")\n",
    "# Criando o diretório, se ele não existir:\n",
    "os.makedirs(ML_PATH, exist_ok=True)\n",
    "\n",
    "# Path: onde estão armazenadas as classes e funções que serão utilizadas neste notebook:\n",
    "LIB_PATH = os.path.join(ROOT_DIR, \"library\")\n",
    "\n",
    "# Adicionando o diretório \"./library\" ao 'path' do Sistema, para podermos importar classes e funções que serão\n",
    "# utilizadas neste notebook:\n",
    "sys.path.append(LIB_PATH)\n",
    "\n",
    "# Importando para este notebook, as classes e funções definidas no módulo \"data_science_library.py\":\n",
    "import data_science_library as dslib\n",
    "\n",
    "print(\"Setup Complete!\")"
   ]
  },
  {
   "cell_type": "code",
   "execution_count": 2,
   "metadata": {},
   "outputs": [
    {
     "name": "stdout",
     "output_type": "stream",
     "text": [
      "Versões dos pacotes usados neste jupyter notebook:\n",
      "Python      : 3.7.11\n",
      "Numpy       : 1.21.2\n",
      "Pandas      : 1.3.4\n"
     ]
    }
   ],
   "source": [
    "# Versões dos pacotes usados neste jupyter notebook:\n",
    "print(\"Versões dos pacotes usados neste jupyter notebook:\")\n",
    "print(\"Python      : {}\".format(python_version()))\n",
    "print(\"Numpy       : {}\".format(np.__version__))\n",
    "print(\"Pandas      : {}\".format(pd.__version__))"
   ]
  },
  {
   "cell_type": "markdown",
   "metadata": {},
   "source": [
    "## 1- Carregar os dados de um novo paciente"
   ]
  },
  {
   "cell_type": "code",
   "execution_count": 3,
   "metadata": {},
   "outputs": [
    {
     "data": {
      "text/html": [
       "<div>\n",
       "<style scoped>\n",
       "    .dataframe tbody tr th:only-of-type {\n",
       "        vertical-align: middle;\n",
       "    }\n",
       "\n",
       "    .dataframe tbody tr th {\n",
       "        vertical-align: top;\n",
       "    }\n",
       "\n",
       "    .dataframe thead th {\n",
       "        text-align: right;\n",
       "    }\n",
       "</style>\n",
       "<table border=\"1\" class=\"dataframe\">\n",
       "  <thead>\n",
       "    <tr style=\"text-align: right;\">\n",
       "      <th></th>\n",
       "      <th>X1</th>\n",
       "      <th>X2</th>\n",
       "      <th>X3</th>\n",
       "      <th>X4</th>\n",
       "      <th>X5</th>\n",
       "      <th>X6</th>\n",
       "      <th>X7</th>\n",
       "      <th>X8</th>\n",
       "      <th>X9</th>\n",
       "      <th>X10</th>\n",
       "      <th>...</th>\n",
       "      <th>X169</th>\n",
       "      <th>X170</th>\n",
       "      <th>X171</th>\n",
       "      <th>X172</th>\n",
       "      <th>X173</th>\n",
       "      <th>X174</th>\n",
       "      <th>X175</th>\n",
       "      <th>X176</th>\n",
       "      <th>X177</th>\n",
       "      <th>X178</th>\n",
       "    </tr>\n",
       "  </thead>\n",
       "  <tbody>\n",
       "    <tr>\n",
       "      <th>0</th>\n",
       "      <td>51</td>\n",
       "      <td>43</td>\n",
       "      <td>34</td>\n",
       "      <td>21</td>\n",
       "      <td>13</td>\n",
       "      <td>12</td>\n",
       "      <td>6</td>\n",
       "      <td>4</td>\n",
       "      <td>1</td>\n",
       "      <td>-4</td>\n",
       "      <td>...</td>\n",
       "      <td>-41</td>\n",
       "      <td>-16</td>\n",
       "      <td>2</td>\n",
       "      <td>22</td>\n",
       "      <td>33</td>\n",
       "      <td>45</td>\n",
       "      <td>56</td>\n",
       "      <td>67</td>\n",
       "      <td>69</td>\n",
       "      <td>63</td>\n",
       "    </tr>\n",
       "  </tbody>\n",
       "</table>\n",
       "<p>1 rows × 178 columns</p>\n",
       "</div>"
      ],
      "text/plain": [
       "   X1  X2  X3  X4  X5  X6  X7  X8  X9  X10  ...  X169  X170  X171  X172  X173  \\\n",
       "0  51  43  34  21  13  12   6   4   1   -4  ...   -41   -16     2    22    33   \n",
       "\n",
       "   X174  X175  X176  X177  X178  \n",
       "0    45    56    67    69    63  \n",
       "\n",
       "[1 rows x 178 columns]"
      ]
     },
     "execution_count": 3,
     "metadata": {},
     "output_type": "execute_result"
    }
   ],
   "source": [
    "# Carregando o arquivo \"novo_paciente.csv\" com dados do \"novo paciente\":\n",
    "df_data = pd.read_csv(filepath_or_buffer=DATA_FILE_PATH)\n",
    "# Visualizando os primeiros registros:\n",
    "df_data.head()"
   ]
  },
  {
   "cell_type": "markdown",
   "metadata": {},
   "source": [
    "Os dados acima representam os valores obtidos no exame **EEG** do **novo paciente**."
   ]
  },
  {
   "cell_type": "markdown",
   "metadata": {},
   "source": [
    "## 2- Preparar os dados do novo paciente\n",
    "\n",
    "Então, vamos normalizar os dados utilizando o objeto **`scaler`** que foi criado na versão **`v1`** do modelos preditivos."
   ]
  },
  {
   "cell_type": "code",
   "execution_count": 4,
   "metadata": {},
   "outputs": [
    {
     "name": "stdout",
     "output_type": "stream",
     "text": [
      "O arquivo 'scaler_v1.pck' (data frame) foi carregado com sucesso!\n"
     ]
    }
   ],
   "source": [
    "# Carregando o objeto \"scaler\" para normalizar as variáveis preditoras:\n",
    "scaler = dslib.pickle_object_load(\n",
    "    path=OBJ_PATH, file=\"scaler_v1.pck\",\n",
    "    msg=\"O arquivo 'scaler_v1.pck' (data frame) foi carregado com sucesso!\"\n",
    ")"
   ]
  },
  {
   "cell_type": "code",
   "execution_count": 5,
   "metadata": {
    "scrolled": false
   },
   "outputs": [
    {
     "data": {
      "text/plain": [
       "array([ 0.37820799,  0.32428482,  0.26888417,  0.184615  ,  0.12757652,\n",
       "        0.11499579,  0.07422715,  0.06258713,  0.04391695,  0.01114486,\n",
       "       -0.0465725 , -0.09363213, -0.11746084, -0.11128414, -0.0786593 ,\n",
       "       -0.06016294, -0.06322109, -0.07841982, -0.05706792, -0.04746901])"
      ]
     },
     "execution_count": 5,
     "metadata": {},
     "output_type": "execute_result"
    }
   ],
   "source": [
    "# Normalizando os dados de entrada:\n",
    "data_scaled = scaler.transform(df_data.values)\n",
    "# Visualizando alguns valores:\n",
    "data_scaled[0,:20]"
   ]
  },
  {
   "cell_type": "markdown",
   "metadata": {},
   "source": [
    "## 3- Prever se o novo paciente terá (ou não) uma crise epilética\n",
    "\n",
    "Para fazer a previsão vamos utilizar o **melhor modelo preditivo** que foi escolhido na etapa de *machine learning*."
   ]
  },
  {
   "cell_type": "code",
   "execution_count": 6,
   "metadata": {},
   "outputs": [
    {
     "name": "stdout",
     "output_type": "stream",
     "text": [
      "O arquivo 'rfc_best_model_v1.pck' (modelo 'RFC') foi carregado com sucesso!\n"
     ]
    }
   ],
   "source": [
    "# Carregando o melhor modelo preditivo escolhido (\"rfc_best_modelo_v1.pck\"):\n",
    "best_model = dslib.pickle_object_load(\n",
    "    path=ML_PATH, file=\"rfc_best_model_v1.pck\",\n",
    "    msg=\"O arquivo 'rfc_best_model_v1.pck' (modelo 'RFC') foi carregado com sucesso!\"\n",
    ")"
   ]
  },
  {
   "cell_type": "code",
   "execution_count": 7,
   "metadata": {},
   "outputs": [],
   "source": [
    "# Fazendo a previsão:\n",
    "prob = best_model.predict_proba(data_scaled)\n",
    "result = best_model.predict(data_scaled)"
   ]
  },
  {
   "cell_type": "code",
   "execution_count": 8,
   "metadata": {},
   "outputs": [
    {
     "name": "stdout",
     "output_type": "stream",
     "text": [
      "Probabilidade do novo paciente não ter uma crise epilética:100.0%\n",
      "Probabilidade do novo paciente ter uma crise epilética:0.0%\n",
      "Categoria prevista pelo modelo:0\n"
     ]
    }
   ],
   "source": [
    "# Print dos resultados:\n",
    "print(\"Probabilidade do novo paciente não ter uma crise epilética:{}%\".format(prob[0,0]*100))\n",
    "print(\"Probabilidade do novo paciente ter uma crise epilética:{}%\".format(prob[0,1]*100))\n",
    "print(\"Categoria prevista pelo modelo:{}\".format(result[0]))"
   ]
  },
  {
   "cell_type": "markdown",
   "metadata": {},
   "source": [
    "**Análise:** de acordo com os resultados do exame **EEG*, o **novo paciente não terá uma crise epilética!**"
   ]
  },
  {
   "cell_type": "markdown",
   "metadata": {},
   "source": [
    "## 4- Conclusão final"
   ]
  },
  {
   "cell_type": "markdown",
   "metadata": {},
   "source": [
    "Portanto, o modelo preditivo criado atende de forma satisfatória o problema de negócio para o qual ele foi criado, ou seja, se o modelo preditivo for colocado em produção para prever se um paciente terá (ou não) uma crise epilética, poderemos esperar que ele tenha um bom desempenho."
   ]
  },
  {
   "cell_type": "markdown",
   "metadata": {},
   "source": [
    "## <font color='black'>FIM</font>"
   ]
  }
 ],
 "metadata": {
  "kernelspec": {
   "display_name": "Python 3 (ipykernel)",
   "language": "python",
   "name": "python3"
  },
  "language_info": {
   "codemirror_mode": {
    "name": "ipython",
    "version": 3
   },
   "file_extension": ".py",
   "mimetype": "text/x-python",
   "name": "python",
   "nbconvert_exporter": "python",
   "pygments_lexer": "ipython3",
   "version": "3.7.11"
  }
 },
 "nbformat": 4,
 "nbformat_minor": 2
}
