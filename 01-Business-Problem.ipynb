{
 "cells": [
  {
   "cell_type": "markdown",
   "metadata": {},
   "source": [
    "***\n",
    "# `Project:` Prevendo a Ocorrências de Crises Epiléticas\n",
    "\n",
    "## `Date:` dezembro, 2021\n",
    "\n",
    "## `Data Scientist:` Walter Trevisan\n",
    "***"
   ]
  },
  {
   "cell_type": "markdown",
   "metadata": {},
   "source": [
    "# `Definição do Problema`"
   ]
  },
  {
   "cell_type": "markdown",
   "metadata": {},
   "source": [
    "## Epilepsia: o que é, principais sintomas, causas e tratamento\n",
    "\n",
    "A epilepsia é uma doença neurológica do sistema nervoso central (SNC) em que a atividade do cérebro, os impulsos elétricos dos neurônios e os sinais químicos cerebrais se tornam anormais, deixando sua atividade desordenada, causando sintomas como convulsões, movimentos descontrolados do corpo ou alterando o comportamento e as sensações, podendo levar até a perda de consciência. \n",
    "\n",
    "Esta doença neurológica pode ocorrer em qualquer pessoa e em qualquer idade, podendo ser causada por um traumatismo craniano, AVC, câncer no cérebro ou doenças como meningite ou encefalite, por exemplo, e deve ser diagnosticada pelo neurologista através de exames como eletroencefalograma ou ressonância magnética, e avaliação dos sintomas durante a crise convulsiva.\n",
    "\n",
    "A epilepsia tem cura e deve ser tratada com remédios anticonvulsivantes indicados pelo médico, como carbamazepina ou fenobarbital, para controlar a atividade cerebral e evitar novas crises convulsivas.\n",
    "\n",
    "![](./images/epilepsia.png)"
   ]
  },
  {
   "cell_type": "markdown",
   "metadata": {},
   "source": [
    "## Principais sintomas\n",
    "\n",
    "O principal sintoma da epilepsia são as convulsões, também chamadas de crises convulsivas, ocasionadas pela atividade anormal dos impulsos elétricos cerebrais, que pode afetar todas as funções do corpo que são coordenadas pelo cérebro. Geralmente, os sinais de que a pessoa vai ter ou está em crise convulsiva são: \n",
    "\n",
    "* Olhar fixo e vago, como se estivesse desligada do mundo;\n",
    "* Confusão mental;\n",
    "* Sensação de formigamento nos braços ou pernas;\n",
    "* Alteração na sensação de cheiros ou sabores;\n",
    "* Movimentos bruscos incontroláveis dos braços e pernas;\n",
    "* Tremores;\n",
    "* Rigidez no corpo;\n",
    "* Contrações dos músculos que pode causar mordida na língua;\n",
    "* Incontinência urinária;\n",
    "* Perda da consciência.\n",
    "\n",
    "Normalmente, as crises convulsivas duram de 30 segundos a 5 minutos, porém existem casos em que podem permanecer por até meia hora e nessas situações pode ocorrer dano cerebral."
   ]
  },
  {
   "cell_type": "markdown",
   "metadata": {},
   "source": [
    "Além disso, os sintomas da crise epiléptica variam de acordo com o tipo de convulsão, baseado em como a atividade cerebral anormal começa e, na maioria dos casos, uma pessoa com epilepsia tende a ter o mesmo tipo de convulsão todas as vezes. Saiba mais sobre os sintomas da epilepsia.\n",
    "\n",
    "Além disso, os sintomas da crise epiléptica variam de acordo com o tipo de convulsão, baseado em como a atividade cerebral anormal começa e, na maioria dos casos, uma pessoa com epilepsia tende a ter o mesmo tipo de convulsão todas as vezes. Saiba **[mais sobre os sintomas da epilepsia](https://www.tuasaude.com/sintomas-de-epilepsia/)**."
   ]
  },
  {
   "cell_type": "markdown",
   "metadata": {},
   "source": [
    "## Tipos de epilepsia\n",
    "\n",
    "A epilepsia pode ser classificada em alguns tipos de acordo com a área do cérebro que tem os impulsos elétricos alterados e desencadeia a convulsão, sendo os principais:\n",
    "\n",
    "### 1. Epilepsia focal\n",
    "\n",
    "A epilepsia focal ou parcial ocorre quando as convulsões são provocadas pela atividade anormal em apenas uma área do cérebro, sendo chamadas de convulsões focais ou parciais, e que podem ocorrer com ou sem perda de consciência e provocar sintomas mais leves como sensação de formigamento da perna ou dos braços, ou realizar movimentos repetitivos, como esfregar as mãos, mastigar, engolir ou andar em círculos, por exemplo. \n",
    "\n",
    "### 2. Epilepsia generalizada\n",
    "\n",
    "A epilepsia generalizada provoca convulsões que ocorrem quando todas as áreas do cérebro apresentam atividade elétrica anormal, podendo causar crise de ausência, sendo muito comum na epilepsia infantil, e são caracterizadas por olhar fixo e vago, ou movimentos corporais sutis, como piscar de olhos ou morder os lábios, e podem causar uma breve perda de consciência.\n",
    "\n",
    "Outros tipos de epilepsia generalizada são a epilepsia mioclônica, que geralmente causa espasmos repentinos ou contrações dos braços e das pernas, e a epilepsia tônica que causa o enrijecimento dos músculos das costas, braços e pernas e podem fazer com que a pessoa caia no chão.\n",
    "\n",
    "Além disso, quando a pessoa apresenta convulsões epilépticas generalizadas que causam perda abrupta da consciência, enrijecimento do corpo, tremores generalizados, perda do controle da bexiga ou mordida na língua, são chamadas de epilepsia tônico-clônica e é considerada o tipo mais grave de epilepsia."
   ]
  },
  {
   "cell_type": "markdown",
   "metadata": {},
   "source": [
    "## Como confirmar o diagnóstico\n",
    "\n",
    "O diagnóstico da epilepsia é feito pelo neurologista, com base nos sintomas que a pessoa apresentou durante uma crise convulsiva, no histórico clínico e através do exame físico em que o médico faz testes de comportamento, habilidades motoras e função mental.\n",
    "\n",
    "Além disso, para determinar a causa das convulsões, o médico pode solicitar exames de sangue para detectar a presença de infecções, doenças genéticas ou outras condições como a diabetes, que podem estar associadas a convulsões, e exames como **eletroencefalograma** (**EEG**), tomografia computadorizada, ressonância magnética ou PET-CT que avaliam a atividade cerebral ou anormalidades no cérebro."
   ]
  },
  {
   "cell_type": "markdown",
   "metadata": {},
   "source": [
    "## Possíveis causas\n",
    "\n",
    "A epilepsia pode afetar indivíduos de qualquer idade, incluindo bebês ou idosos e pode ser causada por vários fatores como:\n",
    "\n",
    "* **Fatores genéticos**, pois pessoas com casos de epilepsia na família, têm maior risco de desenvolver epilepsia também;\n",
    "* **Traumatismo craniano** após bater a cabeça em um acidentes de carro, por exemplo;\n",
    "* **Doenças neurológicas** como Alzheimer, Síndrome de West ou Síndrome Lennox- Gastaud;\n",
    "* **Doenças cerebrais** como AVC, cisto ou câncer no cérebro;\n",
    "* **Baixos níveis de açúcar no sangue** ou diminuição do cálcio ou magnésio;\n",
    "* **Doenças infecciosas** como a meningite, encefalite viral, neurocisticercose ou HIV;\n",
    "* **Lesão pré-natal**, como malformação do cérebro durante a gestação ou dano cerebral no nascimento por falta de oxigênio durante o parto;\n",
    "* **Febre alta**, principalmente em crianças.\n",
    "\n",
    "Por vezes, a causa da epilepsia não é identificada e, neste caso, é chamada de epilepsia idiopática e pode ser desencadeada por fatores como sons fortes, flashes luminosos ou ficar muitas horas sem dormir, por exemplo.\n",
    "\n",
    "Geralmente, a primeira crise convulsiva ocorre entre os 2 e os 14 anos de idade e, no caso de crises convulsivas que ocorrem antes dos 2 anos estão relacionadas com defeitos cerebrais, desequilíbrios químicos ou febres muito altas. Já as crises convulsivas que começam após os 25 anos de idade são provavelmente decorrentes de um traumatismo craniano, de um AVC ou tumor.\n",
    "\n",
    "![](./images/epilepsia2.png)"
   ]
  },
  {
   "cell_type": "markdown",
   "metadata": {},
   "source": [
    "## Como é feito o tratamento\n",
    "\n",
    "O tratamento da epilepsia deve ser indicado pelo neurologista e inclui o uso de apenas um ou uma combinação de remédios anticonvulsivantes como fenobarbital, ácido valpróico ou carbamazepina, por exemplo, para ajudar a controlar a atividade cerebral, diminuir a frequência e a intensidade das convulsões ou evitar novas crises convulsivas.\n",
    "\n",
    "Geralmente, após dois anos ou mais sem crises convulsivas, o médico pode reavaliar o tratamento e até interromper o uso dos medicamentos, mas isto depende da condição da epilepsia de cada pessoa.\n",
    "\n",
    "No entanto, quando o uso de remédios não é capaz de controlar as crises epilépticas, o que caracteriza a epilepsia refratária, o médico pode indicar cirurgia cerebral para remover a área do cérebro que está causando convulsões. Saiba **[mais sobre o tratamento da epilepsia](https://www.tuasaude.com/tratamento-da-epilepsia/)**. \n",
    "\n",
    "## Primeiros socorros durante uma crise epiléptica\n",
    "\n",
    "Durante uma crise epiléptica, deve-se colocar a pessoa deitada de lado para facilitar a respiração e não se deve mexer nela durante as convulsões, removendo objetos que possam cair ou machucar a pessoa. A crise deverá passar em até 5 minutos, caso demore mais tempo é recomendado levar a pessoa ao pronto socorro mais próximo ou chamar uma ambulância. Saiba **[tudo que deve ser feito durante uma crise de epilepsia](https://www.tuasaude.com/o-que-fazer-na-crise-de-epilepsia/)**."
   ]
  },
  {
   "cell_type": "markdown",
   "metadata": {},
   "source": [
    "# `Objetivo do Projeto`\n",
    "\n",
    "O objetivo deste projeto é criar um modelo de ***Machine Learning*** (Aprendizado de Máquina) que seja capaz de prever se um paciente terá (ou não) uma crise epilética, através de 178 leituras de **EEG** (**Eletroencefalograma**) por segundo. Este projeto usará métodos de **classificação binária** para prever se um indivíduo poderá ter uma crise epilética em algum momento."
   ]
  },
  {
   "cell_type": "markdown",
   "metadata": {},
   "source": [
    "# `Avaliação do Projeto`\n",
    "\n",
    "Como **métrica de avaliação** para o modelo usaremos a ***AUC Score*** (*Area Under The Curve Score*), cujo valor vai de 1 a 100%. Para esse problema o valor da métrica deverá ser aproximadamente de **99%**, uma vez que a previsão do modelo está relacionada a casos de vida ou morte de um paciente. Usaremos a métrica calculada no **conjunto de dados de teste**."
   ]
  },
  {
   "cell_type": "markdown",
   "metadata": {},
   "source": [
    "# `Referências`\n",
    "\n",
    "1- Fonte de **[informações sobre epilepsia](https://www.tuasaude.com/epilepsia/)**;\n",
    "\n",
    "2- Fonte dos dados: **[Wu, Qiuyi & Fokoue, Ernest. (2017). Epileptic Seizure Recognition. UCI Machine Learning Repository](https://archive-beta.ics.uci.edu/ml/datasets/epileptic+seizure+recognition)**."
   ]
  },
  {
   "cell_type": "markdown",
   "metadata": {},
   "source": [
    "# <font color='black'>FIM</font>"
   ]
  }
 ],
 "metadata": {
  "kernelspec": {
   "display_name": "Python 3 (ipykernel)",
   "language": "python",
   "name": "python3"
  },
  "language_info": {
   "codemirror_mode": {
    "name": "ipython",
    "version": 3
   },
   "file_extension": ".py",
   "mimetype": "text/x-python",
   "name": "python",
   "nbconvert_exporter": "python",
   "pygments_lexer": "ipython3",
   "version": "3.7.11"
  }
 },
 "nbformat": 4,
 "nbformat_minor": 2
}
