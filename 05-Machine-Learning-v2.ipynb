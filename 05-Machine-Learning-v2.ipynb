{
 "cells": [
  {
   "cell_type": "markdown",
   "metadata": {},
   "source": [
    "***\n",
    "# `Project:` Prevendo a Ocorrências de Crises Epiléticas\n",
    "\n",
    "## `Date:` dezembro, 2021\n",
    "\n",
    "## `Data Scientist:` Walter Trevisan\n",
    "***"
   ]
  },
  {
   "cell_type": "markdown",
   "metadata": {},
   "source": [
    "## `Modelagem Preditiva` (*`Machine Learning`*) - `Versão 2`\n",
    "\n",
    "Nesta etapa, vamos continuar a etapa de **modelagem preditiva**, treinando e analisando alguns algoritmos de classificação. Para fazermos o treinamento dos modelos utilizaremos o *dataset* de treino (**`strat_train_set_v2.pck`**), e para avaliarmos a performance dos modelos utilizaremos o *dataset* de teste (**`strat_test_set.pck`**). Os dois *datasets* foram criados e preprados nas etapas anteriores.\n",
    "\n",
    "Então, vamos realizar as seguintes atividades:\n",
    "\n",
    "1. Carregar os *data frames* de treino (**`strat_train_set_v2.pck`**) e de teste (**`strat_test_set.pck`**);\n",
    "\n",
    "2. Descrever as **métricas de classificação** que serão calculadas para avaliarmos os **modelos preditivos**;\n",
    "\n",
    "3. Balancear os dados de treino e preparar os dados de teste;\n",
    "\n",
    "4. Normalizar as **variáveis preditoras** nos dados de treino e nos dados de teste;\n",
    "\n",
    "5. Criar os **modelos preditivos** (versão **`v2`**) utilizando os seguintes algoritmos de classificação:\n",
    "\n",
    "> **`SGD`**: Stochastic Gradient Descent;\n",
    "> **`KNN`**: K Nearest Neighbors;\n",
    "> **`LR`**: Logistic Regression;\n",
    "> **`DTC`**: Decision Tree Classifier;\n",
    "> **`RFC`**: Random Forest Classifier;\n",
    "> **`LDA`**: Linear Discriminant Analysis;\n",
    "> **`NB`**: Naive bayes;\n",
    "> **`XGBC`**: XGBoost Classifier.\n",
    "\n",
    "6. Concluir esta etapa realizando as seguintes atividades:\n",
    "\n",
    ">* salvar as **métricas de classificação (`v2`)** calculadas de cada modelo;\n",
    ">* avaliar os resultados e escolher o **modelo preditivo** (**`v2`**) que apresentou a **melhor performance para solucionar o nosso problema de negócio**;\n",
    ">* salvar o **modelo preditivo** (**`v2`**) escolhido;\n",
    ">* avaliar qual foi o **melhor modelo preditivo** para o projeto, comparando os melhores modelos das versões **`v1`** e **`v2`**;\n",
    ">* salvar o **melhor modelo preditivo** que resolve o problema de negócio."
   ]
  },
  {
   "cell_type": "markdown",
   "metadata": {},
   "source": [
    "## Setup:\n",
    "\n",
    "Primeiro, vamos carregar os **pacotes e funções** que serão utilizadas neste **notebook**."
   ]
  },
  {
   "cell_type": "code",
   "execution_count": 1,
   "metadata": {},
   "outputs": [
    {
     "name": "stdout",
     "output_type": "stream",
     "text": [
      "Setup Complete!\n"
     ]
    }
   ],
   "source": [
    "# As novas versões do Pandas e Matplotlib trazem diversas mensagens de aviso ao desenvolvedor.\n",
    "# Então, vamos desativar essas mensagens.\n",
    "import sys # O pacote \"sys\" permite manipulações com o sistema operacional:\n",
    "import os  # Operation System (Packages and Functions)\n",
    "import warnings\n",
    "if not sys.warnoptions:\n",
    "    warnings.simplefilter(\"ignore\")\n",
    "warnings.simplefilter(action='ignore', category=FutureWarning)\n",
    "warnings.filterwarnings(\"ignore\", category=FutureWarning)\n",
    "\n",
    "# Importa função para verificarmos a versão da linguagem python:\n",
    "from platform import python_version\n",
    "\n",
    "# Importando os pacote NumPy:\n",
    "import numpy as np\n",
    "# Importando os pacote Pandas:\n",
    "import pandas as pd\n",
    "\n",
    "# Importando pacotes para visualização de gráficos:\n",
    "import matplotlib as mpl\n",
    "import matplotlib.pyplot as plt\n",
    "# Importa o pacote \"seaborn\" para criarmos gráficos estatísticos:\n",
    "import seaborn as sns\n",
    "%matplotlib inline\n",
    "\n",
    "# Função para para normalizar as variáveis preditoras:\n",
    "from sklearn.preprocessing import StandardScaler\n",
    "\n",
    "# Balanceamento dos dados:\n",
    "# Função para criar amostras de dados de forma estratificada:\n",
    "from sklearn.model_selection import StratifiedShuffleSplit\n",
    "# Função de cálculo para plotar a \"ROC Curve\":\n",
    "from sklearn.metrics import roc_curve\n",
    "\n",
    "# Machine Learning imports\n",
    "# Importando o pacote do Scikit-Learn:\n",
    "import sklearn as skl\n",
    "# Importando algoritmos de classificação:\n",
    "from sklearn.linear_model import SGDClassifier # Classificador SGD.\n",
    "from sklearn.neighbors import KNeighborsClassifier # Classificador KNN.\n",
    "from sklearn.linear_model import LogisticRegression\n",
    "from sklearn.tree import DecisionTreeClassifier\n",
    "from sklearn.ensemble import RandomForestClassifier\n",
    "from sklearn.discriminant_analysis import LinearDiscriminantAnalysis\n",
    "from sklearn.naive_bayes import GaussianNB\n",
    "import xgboost as xgb\n",
    "from xgboost import XGBClassifier\n",
    "\n",
    "# Definindo uma \"semente\" para reproduzir os mesmos dados nas tarefas de amostragem,\n",
    "# balanceamento dos dados e treinamento dos modelos preditivos:\n",
    "SEED = 42\n",
    "\n",
    "# Definindo o diretório raiz (Root) onde serão armazenados todas as informações\n",
    "# (Imagens, Gráficos, Objetos, Dados, Modelos de ML, etc...) do projeto.\n",
    "# Diretório Raiz (Root) do Projeto:\n",
    "ROOT_DIR = \".\"\n",
    "\n",
    "# Path: onde ficarão armazenados os \"Objetos\" (Estrututras de Dados) relacionados ao Projeto:\n",
    "OBJ_PATH = os.path.join(ROOT_DIR, \"objects\")\n",
    "# Criando o diretório, se ele não existir:\n",
    "os.makedirs(OBJ_PATH, exist_ok=True)\n",
    "\n",
    "# Path: onde ficarão armazenados os \"datasets\" (arquivos \"csv\") e os \"objetos\" (Data Frames) do Projeto:\n",
    "DATA_PATH = os.path.join(ROOT_DIR, \"data\")\n",
    "# Criando o diretório, se ele não existir:\n",
    "os.makedirs(DATA_PATH, exist_ok=True)\n",
    "\n",
    "# Path: onde serão armazenadas as \"Imagens\" (Figuras e Gráficos) do Projeto:\n",
    "GRAPHICS_PATH = os.path.join(ROOT_DIR, \"images\", \"graphics\")\n",
    "# Criando o diretório, se ele não existir:\n",
    "os.makedirs(GRAPHICS_PATH, exist_ok=True)\n",
    "\n",
    "# Path: onde ficarão armazenados os \"Modelos Preditivos\" (Machine Learning) relacionados ao Projeto:\n",
    "ML_PATH = os.path.join(ROOT_DIR, \"models\")\n",
    "# Criando o diretório, se ele não existir:\n",
    "os.makedirs(ML_PATH, exist_ok=True)\n",
    "\n",
    "# Path: onde estão armazenadas as classes e funções que serão utilizadas neste notebook:\n",
    "LIB_PATH = os.path.join(ROOT_DIR, \"library\")\n",
    "\n",
    "# Adicionando o diretório \"./library\" ao 'path' do Sistema, para podermos importar classes e funções que serão\n",
    "# utilizadas neste notebook:\n",
    "sys.path.append(LIB_PATH)\n",
    "\n",
    "# Importando para este notebook, as classes e funções definidas no módulo \"data_science_library.py\":\n",
    "import data_science_library as dslib\n",
    "\n",
    "# Importando para este notebook, as classes e funções definidas no módulo \"plot_library.py\":\n",
    "import plot_library as ptlib\n",
    "\n",
    "# Importando para este notebook, as classes e funções definidas no módulo \"machine_learning_library.py\":\n",
    "import machine_learning_library as mllib\n",
    "\n",
    "# Criando um objeto para calularmos os tempos gastos de treinamento:\n",
    "ept = dslib.ElapsedTime(builder_msg=False)\n",
    "\n",
    "print(\"Setup Complete!\")"
   ]
  },
  {
   "cell_type": "code",
   "execution_count": 2,
   "metadata": {},
   "outputs": [
    {
     "name": "stdout",
     "output_type": "stream",
     "text": [
      "Versões dos pacotes usados neste jupyter notebook:\n",
      "Python      : 3.7.11\n",
      "Numpy       : 1.21.2\n",
      "Pandas      : 1.3.4\n",
      "Matplotlib  : 3.5.0\n",
      "Seaborn     : 0.11.2\n",
      "Scikit-Learn: 1.0.1\n",
      "xgboost     : 0.90\n"
     ]
    }
   ],
   "source": [
    "# Versões dos pacotes usados neste jupyter notebook:\n",
    "print(\"Versões dos pacotes usados neste jupyter notebook:\")\n",
    "print(\"Python      : {}\".format(python_version()))\n",
    "print(\"Numpy       : {}\".format(np.__version__))\n",
    "print(\"Pandas      : {}\".format(pd.__version__))\n",
    "print(\"Matplotlib  : {}\".format(mpl.__version__))\n",
    "print(\"Seaborn     : {}\".format(sns.__version__))\n",
    "print(\"Scikit-Learn: {}\".format(skl.__version__))\n",
    "print(\"xgboost     : {}\".format(xgb.__version__))"
   ]
  },
  {
   "cell_type": "markdown",
   "metadata": {},
   "source": [
    "## 1- Carregar os *data frames* de treino e teste"
   ]
  },
  {
   "cell_type": "code",
   "execution_count": 3,
   "metadata": {},
   "outputs": [
    {
     "name": "stdout",
     "output_type": "stream",
     "text": [
      "O arquivo 'strat_train_set_v2.pck' (data frame) foi carregado com sucesso!\n"
     ]
    },
    {
     "data": {
      "text/html": [
       "<div>\n",
       "<style scoped>\n",
       "    .dataframe tbody tr th:only-of-type {\n",
       "        vertical-align: middle;\n",
       "    }\n",
       "\n",
       "    .dataframe tbody tr th {\n",
       "        vertical-align: top;\n",
       "    }\n",
       "\n",
       "    .dataframe thead th {\n",
       "        text-align: right;\n",
       "    }\n",
       "</style>\n",
       "<table border=\"1\" class=\"dataframe\">\n",
       "  <thead>\n",
       "    <tr style=\"text-align: right;\">\n",
       "      <th></th>\n",
       "      <th>X1</th>\n",
       "      <th>X2</th>\n",
       "      <th>X3</th>\n",
       "      <th>X4</th>\n",
       "      <th>X5</th>\n",
       "      <th>X6</th>\n",
       "      <th>X7</th>\n",
       "      <th>X8</th>\n",
       "      <th>X9</th>\n",
       "      <th>X10</th>\n",
       "      <th>...</th>\n",
       "      <th>X171</th>\n",
       "      <th>X172</th>\n",
       "      <th>X173</th>\n",
       "      <th>X174</th>\n",
       "      <th>X175</th>\n",
       "      <th>X176</th>\n",
       "      <th>X177</th>\n",
       "      <th>X178</th>\n",
       "      <th>y</th>\n",
       "      <th>target</th>\n",
       "    </tr>\n",
       "  </thead>\n",
       "  <tbody>\n",
       "    <tr>\n",
       "      <th>0</th>\n",
       "      <td>57</td>\n",
       "      <td>-36</td>\n",
       "      <td>-111</td>\n",
       "      <td>-185</td>\n",
       "      <td>-257</td>\n",
       "      <td>-324</td>\n",
       "      <td>-369</td>\n",
       "      <td>-394</td>\n",
       "      <td>-387</td>\n",
       "      <td>-362</td>\n",
       "      <td>...</td>\n",
       "      <td>703</td>\n",
       "      <td>669</td>\n",
       "      <td>565</td>\n",
       "      <td>461</td>\n",
       "      <td>345</td>\n",
       "      <td>207</td>\n",
       "      <td>64</td>\n",
       "      <td>-88</td>\n",
       "      <td>1</td>\n",
       "      <td>1</td>\n",
       "    </tr>\n",
       "    <tr>\n",
       "      <th>1</th>\n",
       "      <td>-69</td>\n",
       "      <td>-67</td>\n",
       "      <td>-60</td>\n",
       "      <td>-62</td>\n",
       "      <td>-66</td>\n",
       "      <td>-66</td>\n",
       "      <td>-59</td>\n",
       "      <td>-56</td>\n",
       "      <td>-51</td>\n",
       "      <td>-60</td>\n",
       "      <td>...</td>\n",
       "      <td>-68</td>\n",
       "      <td>-63</td>\n",
       "      <td>-53</td>\n",
       "      <td>-42</td>\n",
       "      <td>-32</td>\n",
       "      <td>-24</td>\n",
       "      <td>-13</td>\n",
       "      <td>-4</td>\n",
       "      <td>2</td>\n",
       "      <td>0</td>\n",
       "    </tr>\n",
       "    <tr>\n",
       "      <th>2</th>\n",
       "      <td>-78</td>\n",
       "      <td>-75</td>\n",
       "      <td>-68</td>\n",
       "      <td>-57</td>\n",
       "      <td>-26</td>\n",
       "      <td>-19</td>\n",
       "      <td>11</td>\n",
       "      <td>13</td>\n",
       "      <td>25</td>\n",
       "      <td>10</td>\n",
       "      <td>...</td>\n",
       "      <td>30</td>\n",
       "      <td>23</td>\n",
       "      <td>29</td>\n",
       "      <td>40</td>\n",
       "      <td>52</td>\n",
       "      <td>44</td>\n",
       "      <td>39</td>\n",
       "      <td>21</td>\n",
       "      <td>5</td>\n",
       "      <td>0</td>\n",
       "    </tr>\n",
       "    <tr>\n",
       "      <th>3</th>\n",
       "      <td>1</td>\n",
       "      <td>2</td>\n",
       "      <td>11</td>\n",
       "      <td>21</td>\n",
       "      <td>25</td>\n",
       "      <td>35</td>\n",
       "      <td>43</td>\n",
       "      <td>50</td>\n",
       "      <td>54</td>\n",
       "      <td>60</td>\n",
       "      <td>...</td>\n",
       "      <td>19</td>\n",
       "      <td>15</td>\n",
       "      <td>14</td>\n",
       "      <td>14</td>\n",
       "      <td>15</td>\n",
       "      <td>15</td>\n",
       "      <td>9</td>\n",
       "      <td>3</td>\n",
       "      <td>2</td>\n",
       "      <td>0</td>\n",
       "    </tr>\n",
       "    <tr>\n",
       "      <th>4</th>\n",
       "      <td>-111</td>\n",
       "      <td>-105</td>\n",
       "      <td>-100</td>\n",
       "      <td>-91</td>\n",
       "      <td>-84</td>\n",
       "      <td>-76</td>\n",
       "      <td>-74</td>\n",
       "      <td>-68</td>\n",
       "      <td>-54</td>\n",
       "      <td>-47</td>\n",
       "      <td>...</td>\n",
       "      <td>3</td>\n",
       "      <td>5</td>\n",
       "      <td>8</td>\n",
       "      <td>10</td>\n",
       "      <td>6</td>\n",
       "      <td>1</td>\n",
       "      <td>-3</td>\n",
       "      <td>-13</td>\n",
       "      <td>2</td>\n",
       "      <td>0</td>\n",
       "    </tr>\n",
       "  </tbody>\n",
       "</table>\n",
       "<p>5 rows × 180 columns</p>\n",
       "</div>"
      ],
      "text/plain": [
       "    X1   X2   X3   X4   X5   X6   X7   X8   X9  X10  ...  X171  X172  X173  \\\n",
       "0   57  -36 -111 -185 -257 -324 -369 -394 -387 -362  ...   703   669   565   \n",
       "1  -69  -67  -60  -62  -66  -66  -59  -56  -51  -60  ...   -68   -63   -53   \n",
       "2  -78  -75  -68  -57  -26  -19   11   13   25   10  ...    30    23    29   \n",
       "3    1    2   11   21   25   35   43   50   54   60  ...    19    15    14   \n",
       "4 -111 -105 -100  -91  -84  -76  -74  -68  -54  -47  ...     3     5     8   \n",
       "\n",
       "   X174  X175  X176  X177  X178  y  target  \n",
       "0   461   345   207    64   -88  1       1  \n",
       "1   -42   -32   -24   -13    -4  2       0  \n",
       "2    40    52    44    39    21  5       0  \n",
       "3    14    15    15     9     3  2       0  \n",
       "4    10     6     1    -3   -13  2       0  \n",
       "\n",
       "[5 rows x 180 columns]"
      ]
     },
     "execution_count": 3,
     "metadata": {},
     "output_type": "execute_result"
    }
   ],
   "source": [
    "# Carregando o \"data frame\" de treino (\"strat_train_set_v2\"):\n",
    "train_df = dslib.pickle_object_load(\n",
    "    path=DATA_PATH, file=\"strat_train_set_v2.pck\",\n",
    "    msg=\"O arquivo 'strat_train_set_v2.pck' (data frame) foi carregado com sucesso!\"\n",
    ")\n",
    "\n",
    "# Visualizando os primeiros registros:\n",
    "train_df.head()"
   ]
  },
  {
   "cell_type": "code",
   "execution_count": 4,
   "metadata": {},
   "outputs": [
    {
     "name": "stdout",
     "output_type": "stream",
     "text": [
      "O arquivo 'strat_test_set.pck' (data frame) foi carregado com sucesso!\n"
     ]
    },
    {
     "data": {
      "text/html": [
       "<div>\n",
       "<style scoped>\n",
       "    .dataframe tbody tr th:only-of-type {\n",
       "        vertical-align: middle;\n",
       "    }\n",
       "\n",
       "    .dataframe tbody tr th {\n",
       "        vertical-align: top;\n",
       "    }\n",
       "\n",
       "    .dataframe thead th {\n",
       "        text-align: right;\n",
       "    }\n",
       "</style>\n",
       "<table border=\"1\" class=\"dataframe\">\n",
       "  <thead>\n",
       "    <tr style=\"text-align: right;\">\n",
       "      <th></th>\n",
       "      <th>Unnamed: 0</th>\n",
       "      <th>X1</th>\n",
       "      <th>X2</th>\n",
       "      <th>X3</th>\n",
       "      <th>X4</th>\n",
       "      <th>X5</th>\n",
       "      <th>X6</th>\n",
       "      <th>X7</th>\n",
       "      <th>X8</th>\n",
       "      <th>X9</th>\n",
       "      <th>...</th>\n",
       "      <th>X170</th>\n",
       "      <th>X171</th>\n",
       "      <th>X172</th>\n",
       "      <th>X173</th>\n",
       "      <th>X174</th>\n",
       "      <th>X175</th>\n",
       "      <th>X176</th>\n",
       "      <th>X177</th>\n",
       "      <th>X178</th>\n",
       "      <th>y</th>\n",
       "    </tr>\n",
       "  </thead>\n",
       "  <tbody>\n",
       "    <tr>\n",
       "      <th>0</th>\n",
       "      <td>X21.V1.794</td>\n",
       "      <td>403</td>\n",
       "      <td>501</td>\n",
       "      <td>631</td>\n",
       "      <td>710</td>\n",
       "      <td>679</td>\n",
       "      <td>526</td>\n",
       "      <td>297</td>\n",
       "      <td>25</td>\n",
       "      <td>-274</td>\n",
       "      <td>...</td>\n",
       "      <td>655</td>\n",
       "      <td>669</td>\n",
       "      <td>592</td>\n",
       "      <td>422</td>\n",
       "      <td>160</td>\n",
       "      <td>-160</td>\n",
       "      <td>-471</td>\n",
       "      <td>-754</td>\n",
       "      <td>-924</td>\n",
       "      <td>1</td>\n",
       "    </tr>\n",
       "    <tr>\n",
       "      <th>1</th>\n",
       "      <td>X20.V1.321</td>\n",
       "      <td>17</td>\n",
       "      <td>25</td>\n",
       "      <td>40</td>\n",
       "      <td>46</td>\n",
       "      <td>31</td>\n",
       "      <td>1</td>\n",
       "      <td>-19</td>\n",
       "      <td>-30</td>\n",
       "      <td>-28</td>\n",
       "      <td>...</td>\n",
       "      <td>-1</td>\n",
       "      <td>-33</td>\n",
       "      <td>-54</td>\n",
       "      <td>-52</td>\n",
       "      <td>-26</td>\n",
       "      <td>-1</td>\n",
       "      <td>19</td>\n",
       "      <td>19</td>\n",
       "      <td>-3</td>\n",
       "      <td>4</td>\n",
       "    </tr>\n",
       "    <tr>\n",
       "      <th>2</th>\n",
       "      <td>X15.V1.274</td>\n",
       "      <td>-643</td>\n",
       "      <td>-726</td>\n",
       "      <td>-725</td>\n",
       "      <td>-628</td>\n",
       "      <td>-472</td>\n",
       "      <td>-239</td>\n",
       "      <td>33</td>\n",
       "      <td>363</td>\n",
       "      <td>679</td>\n",
       "      <td>...</td>\n",
       "      <td>-373</td>\n",
       "      <td>-400</td>\n",
       "      <td>-450</td>\n",
       "      <td>-523</td>\n",
       "      <td>-556</td>\n",
       "      <td>-556</td>\n",
       "      <td>-454</td>\n",
       "      <td>-276</td>\n",
       "      <td>-30</td>\n",
       "      <td>1</td>\n",
       "    </tr>\n",
       "    <tr>\n",
       "      <th>3</th>\n",
       "      <td>X19.V1.354</td>\n",
       "      <td>-47</td>\n",
       "      <td>-11</td>\n",
       "      <td>28</td>\n",
       "      <td>77</td>\n",
       "      <td>141</td>\n",
       "      <td>211</td>\n",
       "      <td>246</td>\n",
       "      <td>240</td>\n",
       "      <td>193</td>\n",
       "      <td>...</td>\n",
       "      <td>-65</td>\n",
       "      <td>-33</td>\n",
       "      <td>-7</td>\n",
       "      <td>14</td>\n",
       "      <td>27</td>\n",
       "      <td>48</td>\n",
       "      <td>77</td>\n",
       "      <td>117</td>\n",
       "      <td>170</td>\n",
       "      <td>1</td>\n",
       "    </tr>\n",
       "    <tr>\n",
       "      <th>4</th>\n",
       "      <td>X12.V1.132</td>\n",
       "      <td>-35</td>\n",
       "      <td>-40</td>\n",
       "      <td>-41</td>\n",
       "      <td>-52</td>\n",
       "      <td>-64</td>\n",
       "      <td>-83</td>\n",
       "      <td>-100</td>\n",
       "      <td>-101</td>\n",
       "      <td>-91</td>\n",
       "      <td>...</td>\n",
       "      <td>-72</td>\n",
       "      <td>-64</td>\n",
       "      <td>-64</td>\n",
       "      <td>-67</td>\n",
       "      <td>-66</td>\n",
       "      <td>-64</td>\n",
       "      <td>-70</td>\n",
       "      <td>-81</td>\n",
       "      <td>-99</td>\n",
       "      <td>3</td>\n",
       "    </tr>\n",
       "  </tbody>\n",
       "</table>\n",
       "<p>5 rows × 180 columns</p>\n",
       "</div>"
      ],
      "text/plain": [
       "   Unnamed: 0   X1   X2   X3   X4   X5   X6   X7   X8   X9  ...  X170  X171  \\\n",
       "0  X21.V1.794  403  501  631  710  679  526  297   25 -274  ...   655   669   \n",
       "1  X20.V1.321   17   25   40   46   31    1  -19  -30  -28  ...    -1   -33   \n",
       "2  X15.V1.274 -643 -726 -725 -628 -472 -239   33  363  679  ...  -373  -400   \n",
       "3  X19.V1.354  -47  -11   28   77  141  211  246  240  193  ...   -65   -33   \n",
       "4  X12.V1.132  -35  -40  -41  -52  -64  -83 -100 -101  -91  ...   -72   -64   \n",
       "\n",
       "   X172  X173  X174  X175  X176  X177  X178  y  \n",
       "0   592   422   160  -160  -471  -754  -924  1  \n",
       "1   -54   -52   -26    -1    19    19    -3  4  \n",
       "2  -450  -523  -556  -556  -454  -276   -30  1  \n",
       "3    -7    14    27    48    77   117   170  1  \n",
       "4   -64   -67   -66   -64   -70   -81   -99  3  \n",
       "\n",
       "[5 rows x 180 columns]"
      ]
     },
     "execution_count": 4,
     "metadata": {},
     "output_type": "execute_result"
    }
   ],
   "source": [
    "# Carregando o \"data frame\" de teste (\"strat_test_set\"):\n",
    "test_df = dslib.pickle_object_load(\n",
    "    path=DATA_PATH, file=\"strat_test_set.pck\",\n",
    "    msg=\"O arquivo 'strat_test_set.pck' (data frame) foi carregado com sucesso!\"\n",
    ")\n",
    "\n",
    "# Visualizando os primeiros registros:\n",
    "test_df.head()"
   ]
  },
  {
   "cell_type": "markdown",
   "metadata": {},
   "source": [
    "## 2- Descrição das `métricas de classificação`:\n",
    "\n",
    "### Métricas: `Accuracy`, `Precision`, `Recall`, `f1-score` e `ROC Curve (AUC)`\n",
    "\n",
    "### `Accuracy`:\n",
    "\n",
    "A **acurácia** do modelo mede a taxa de acertos das classes ***True Positive*** e ***True Negative***, sendo calculada pela fórmula abaixo:\n",
    "\n",
    "**`Accuracy = (TP + TN)/(TP + TN + FP + FN)`**, onde:\n",
    "\n",
    "1. **`TP`** é o número de ***verdadeiros positivos***;\n",
    "\n",
    "2. **`TN`** é o número de ***verdadeiros negativos***;\n",
    "\n",
    "3. **`FP`** é o número de ***falsos positivos***.\n",
    "\n",
    "4. **`FN`** é o número de ***falsos negativos***.\n",
    "\n",
    "Um classificador perfeito teria apenas *verdadeiros positivos* (**TP**) e *verdadeiros negativos* (**TN**), ou seja, sua **matriz de confusão** teria valores diferentes de zero somente na sua diagonal principal (superior esquerda para a inferior direita), ou seja, a sua acurácia (**`accuracy`**) seria de **100%**.\n",
    "\n",
    "### `Precision`:\n",
    "\n",
    "Uma outra métrica interessante a ser observada na ***matriz de confusão*** é a `acurácia das previsões positivas`; que é chamada de ***precisão (precision)*** do classificador e é calculada pela fórmula abaixo:\n",
    "\n",
    "**`Precision = TP/(TP + FP)`**, onde:\n",
    "\n",
    "1. **`TP`** é o número de ***verdadeiros positivos***;\n",
    "\n",
    "2. **`FP`** é o número de ***falsos positivos***.\n",
    "\n",
    "### `Recall`:\n",
    "\n",
    "Entretanto, a precisão é utilizada em conjunto com outra métrica chamada ***revocação (recall)***, também conhecida como ***sensibilidade*** ou ***taxa de verdadeiros positivos (TPR)***: esta é a taxa de `instâncias positivas que são corretamente detectadas` pelo classificador, sendo calculada pel fórmula abaixo:\n",
    "\n",
    "**`Recall = TP/(TP + FN)`**, onde:\n",
    "\n",
    "1. **`TP`** é o número de ***verdadeiros positivos***;\n",
    "\n",
    "2. **`FN`** é o número de ***falsos negativos***.\n",
    "\n",
    "### `f1-score`:\n",
    "\n",
    "Muitas vezes, é conveniente combinarmos **precisão** e **revocação** em uma única métrica chamada ***pontuação F1 (f1 score)***, principalmente se precisarmos comparar dois ou mais classificadores.\n",
    "\n",
    "A ***pontuação F1*** é a ***média harmônica*** da **precisão** e **revocação**, sendo calculada pela fórmula abaixo:\n",
    "\n",
    "**`F1 = TP/(TP + (FN + FP)/2)`**, onde:\n",
    "\n",
    "1. **`TP`** é o número de ***verdadeiros positivos***;\n",
    "\n",
    "2. **`FN`** é o número de ***falsos negativos***;\n",
    "\n",
    "3. **`FP`** é o número de ***falsos positivos***.\n",
    "\n",
    "Enquanto a média regular trata igualmente todos os valores, a média harmônica dá muito mais peso aos valores mais baixos, ou seja, o classificador só obterá uma ***pontuação F1*** alta, se a **revocação** e a **precisão** forem altas.\n",
    "\n",
    "### `ROC Curve (AUC)`\n",
    "\n",
    "A curva **ROC** (*características operacionais do receptor*) é outra ferramenta comum utilizada com classificadores binários. É muito semelhante à curva de **`precision/recall`**, mas, em vez de plotar a **precision versus recall**, a curva **ROC** plota a *taxa de verdadeiros positivos* (***TPR = True Positive Rate***), que é um outro nome dado para ***recall***, versus a *taxa de falsos positivos* (***FPR = False Positive Rate***). O ***FPR*** é a razão de instâncias negativas incorretamente classificadas como positivas. É igual a 1 menos *taxa de verdadeiros negativos* (***TNR = True Negative Rate***), que é a razão de instâncias negativas que são corretamente classificadas como negativas. A ***TNR*** também é chamada de ***especificidade***.\n",
    "\n",
    "Portanto, a ***Curva ROC*** plota a ***`sensibilidade (recall)` versus `1 - especificidade`***.\n",
    "\n",
    "Equações:\n",
    "\n",
    "1. **`TPR = TP/(TP + FN)`** --> ***True Positive Rate***, ou também ***`recall`*** ou também ***`sensibilidade`***\n",
    "\n",
    "2. **`FPR = FP/(FP + TN)`** --> ***False Positive Rate***\n",
    "\n",
    "3. **`TNR = TN/(TN + FP)`** --> ***True Negative Rate***, ou também ***especificidade***\n",
    "\n",
    "4. **`FPR = 1 - TNR`** ou também **`FPR = 1 - especificidade`**\n",
    "\n",
    "Então, para plotarmos a ***ROC curve***, primeiro precisamos calcular a **TPR** e a **FPR** para vários valores de ***thresholds*** (limiares) utilizando a função ***`roc_curve()`***.\n",
    "\n",
    "Mas, a função `roc_curve()` utiliza as **pontuações de decisão** (ao invés das previsões) de todas as instâncias do nosso dataset, ou seja, precisamos primeiro calcular estas pontuações (`scores`) de decisão utilizando o método `decision_function` da função `cross_val_predict()`.\n",
    "\n",
    "Entretando, devido ao modo como funcionam, alguns classificadores (por exemplo: a classe `KNeighborsClassifier`) não possuem um método `decision_function()`. Em vez disso, eles possuem um método chamado `predict_proba()`. Este método retorna um array que contém uma linha por instância e uma coluna por classe, cada uma contendo a probabilidade de a instância dada pertencer à classe dada (por exemplo, neste projeto, 70% de chance de um cliente estar insatisfeito). Portanto, quando utilizarmos estes classificadores, primeiro precisaremos calcular as probabilidades com o método `predict_proba()`, e, então, em seguida calcularemos as *pontuações de decisão* utilizando a probabilidade da classe positiva como sendo a pontuação.\n",
    "\n",
    "Observando o gráfico da **Curva ROC**, quanto maior a ***`TPR (recall)`***, mais falsos positivos (***`FPR`***) o classificador produz, ou seja, menor é a sua **precisão** (***`precision`***). A linha pontilhada representa a curva ROC de um classificador puramente aleatório; um bom classificador fica mais distante dessa linha possível (em direção ao canto superior esquerdo)!\n",
    "\n",
    "Uma forma de compararmos dois ou mais classificadores é medirmos a **área abaixo da curva** (***`AUC = Area Under Curve`***). Um classificador perfeito terá um ***`ROC AUC = 1`***, enquanto que um classificador puramente aleatório terá um ***`ROC AUC = 0.5`***."
   ]
  },
  {
   "cell_type": "markdown",
   "metadata": {},
   "source": [
    "## 3- Balanceamento do *dataset* de treino e preparação dos *datasets* de treino e teste\n",
    "\n",
    "Na etapa de **análise exploratória** identificamos que o nosso *dataset* de treino possui apenas **`2%`** de observações classificadas com a categoria que representa a **ocorrência de crise epilética** (**`y = 1`**), ou seja, temos um *dataset* **desbalanceado**. Neste caso, precisamos realizar um **balanceamento** do *dataset* de treino para evitarmos um *viés* no treinamento dos modelos de *machine learning*, ocasioando *overfitting*.\n",
    "\n",
    "Para fazermos o balanceamento dos dados de treino aplicaremos o método de **amostragem estratificada**, utilizando a nossa variável target (**`y`**), para termos as mesmas proporções da classe **1** e das outras classes (**2, 3, 4 e 5**) nos dois conjuntos de dados gerados, ou seja, teremos um conjunto de dados com **75%** dos registros e outro conjunto de dados com **25%** dos registros. O conjunto de dados com **25%** dos registros e o conjunto de dados com a categoria igual a **1** formarão o *dataset* de treino que utilizaremos para o treinamento dos modelos preditivos. Após o balanceamento a quantidade de registros para cada categoria será a mesma, ou seja, **50%** de registros para cada categoria (**`target = 0`** e **`target = 1`**).\n",
    "\n",
    "**amostragem estratificada**: a população é dividida em subgrupos homogêneos, chamados de *estratos*, e o número certo de instâncias de cada estrato é amostrado para garantir que o conjunto de testes seja representativo da população em geral."
   ]
  },
  {
   "cell_type": "code",
   "execution_count": 5,
   "metadata": {},
   "outputs": [],
   "source": [
    "# Filtrando todos os registros da classe positiva (\"target = 1\"), ou seja, estamos filtrando 20% dos pacientes\n",
    "# que tiveram crise epilética:\n",
    "# Criando um índice:\n",
    "index = (train_df['target'] == 1)\n",
    "# Filtrando os registros do dataset de treino:\n",
    "train_cat_1_df = train_df[index]\n",
    "# Reset no índice do data frame:\n",
    "train_cat_1_df.reset_index(drop=True, inplace=True)\n",
    "\n",
    "# Filtrando todos os registros da classe negativa (\"target = 0\"), ou seja, estamos filtrando 80% dos pacientes\n",
    "# que não tiveram crise epilética:\n",
    "# Criando um índice:\n",
    "index = (train_df['target'] == 0)\n",
    "# Filtrando os registros do dataset de treino:\n",
    "train_cat_0_df = train_df[index]\n",
    "# Reset no índice do data frame:\n",
    "train_cat_0_df.reset_index(drop=True, inplace=True)"
   ]
  },
  {
   "cell_type": "code",
   "execution_count": 6,
   "metadata": {},
   "outputs": [],
   "source": [
    "# Fazendo o balanceamento dos dados de treino:\n",
    "# Criando a instância:\n",
    "split = StratifiedShuffleSplit(n_splits=1, test_size=0.25, random_state=SEED)\n",
    "\n",
    "# Criando os datasets de 75% e 25% utilizando amostragem estratificada:\n",
    "for dataset_75_index, dataset_25_index in split.split(train_cat_0_df, train_cat_0_df[\"y\"]):\n",
    "    strat_75_set = train_cat_0_df.loc[dataset_75_index]\n",
    "    strat_25_set = train_cat_0_df.loc[dataset_25_index]\n",
    "    \n",
    "# Reset no índice do data frame de 25%:\n",
    "strat_25_set.reset_index(drop=True, inplace=True)\n",
    "\n",
    "# Criando o dataset de treino balanceado:\n",
    "train_bal_df = pd.concat(objs=[train_cat_1_df,strat_25_set], axis=0, ignore_index=True)\n",
    "# Embaralhando o data frame \"train_bal_df\" de forma aleatória:\n",
    "train_bal_df = train_bal_df.sample(n = len(train_bal_df), random_state=SEED, ignore_index=True)"
   ]
  },
  {
   "cell_type": "code",
   "execution_count": 7,
   "metadata": {},
   "outputs": [
    {
     "data": {
      "text/html": [
       "<div>\n",
       "<style scoped>\n",
       "    .dataframe tbody tr th:only-of-type {\n",
       "        vertical-align: middle;\n",
       "    }\n",
       "\n",
       "    .dataframe tbody tr th {\n",
       "        vertical-align: top;\n",
       "    }\n",
       "\n",
       "    .dataframe thead th {\n",
       "        text-align: right;\n",
       "    }\n",
       "</style>\n",
       "<table border=\"1\" class=\"dataframe\">\n",
       "  <thead>\n",
       "    <tr style=\"text-align: right;\">\n",
       "      <th></th>\n",
       "      <th>Total</th>\n",
       "      <th>Percent</th>\n",
       "    </tr>\n",
       "    <tr>\n",
       "      <th>target</th>\n",
       "      <th></th>\n",
       "      <th></th>\n",
       "    </tr>\n",
       "  </thead>\n",
       "  <tbody>\n",
       "    <tr>\n",
       "      <th>0</th>\n",
       "      <td>1840</td>\n",
       "      <td>0.5</td>\n",
       "    </tr>\n",
       "    <tr>\n",
       "      <th>1</th>\n",
       "      <td>1840</td>\n",
       "      <td>0.5</td>\n",
       "    </tr>\n",
       "  </tbody>\n",
       "</table>\n",
       "</div>"
      ],
      "text/plain": [
       "        Total  Percent\n",
       "target                \n",
       "0        1840      0.5\n",
       "1        1840      0.5"
      ]
     },
     "execution_count": 7,
     "metadata": {},
     "output_type": "execute_result"
    }
   ],
   "source": [
    "# Verificando a contagem de cada categoria do data frame balanceado:\n",
    "dslib.percent_count_feature(df=train_bal_df, feature='target')"
   ]
  },
  {
   "cell_type": "markdown",
   "metadata": {},
   "source": [
    "**Análise:** podemos observar que o dataset de treino foi balanceado com **50%** de registros para cada uma das categorias: **`target = 0`** e **`target = 1`**."
   ]
  },
  {
   "cell_type": "markdown",
   "metadata": {},
   "source": [
    "### Preparando os dados de treino: `X_train_bal` e `y_train_bal`"
   ]
  },
  {
   "cell_type": "code",
   "execution_count": 8,
   "metadata": {},
   "outputs": [
    {
     "name": "stdout",
     "output_type": "stream",
     "text": [
      "Dados de treino:\n",
      "X_train_bal: (3680, 178)\n",
      "y_train_bal: (3680,)\n"
     ]
    }
   ],
   "source": [
    "# Criando a matrizes \"X_train_bal\" e o vetor \"y_train_bal\":\n",
    "# Criando uma lista com os nomes das variáveis preditoras:\n",
    "features = list(train_bal_df.columns.drop(labels=['y', 'target']))\n",
    "# Criando a matriz \"X_train_bal\":\n",
    "X_train_bal = train_bal_df[features].values\n",
    "# Criando o vetor \"y_train_bal\":\n",
    "y_train_bal = train_bal_df['target'].values\n",
    "print(\"Dados de treino:\")\n",
    "print(\"X_train_bal: {}\".format(X_train_bal.shape))\n",
    "print(\"y_train_bal: {}\".format(y_train_bal.shape))"
   ]
  },
  {
   "cell_type": "markdown",
   "metadata": {},
   "source": [
    "### Preparando os dados de teste: `X_test` e `y_test`"
   ]
  },
  {
   "cell_type": "code",
   "execution_count": 9,
   "metadata": {},
   "outputs": [],
   "source": [
    "# Fazendo \"feature engineering\" nos dados de teste:\n",
    "test_df = dslib.feature_engineering(df=test_df)"
   ]
  },
  {
   "cell_type": "code",
   "execution_count": 10,
   "metadata": {},
   "outputs": [
    {
     "name": "stdout",
     "output_type": "stream",
     "text": [
      "Dados de teste:\n",
      "X_test: (2300, 178)\n",
      "y_test: (2300,)\n"
     ]
    }
   ],
   "source": [
    "# Criando a matrizes \"X_test\" e o vetor \"y_test\":\n",
    "# Criando uma lista com os nomes das variáveis preditoras:\n",
    "features = list(test_df.columns.drop(labels=['y', 'target']))\n",
    "# Criando a matriz \"X_test\":\n",
    "X_test = test_df[features].values\n",
    "# Criando o vetor \"y_test\":\n",
    "y_test = test_df['target'].values\n",
    "print(\"Dados de teste:\")\n",
    "print(\"X_test: {}\".format(X_test.shape))\n",
    "print(\"y_test: {}\".format(y_test.shape))"
   ]
  },
  {
   "cell_type": "markdown",
   "metadata": {},
   "source": [
    "## 3- Normalizar as variáveis preditoras nos dados de treino e teste\n",
    "\n",
    "Para normalizar as variáveis preditoras, ou seja, colocar os seus valores numéricos na mesma escala, utilizaremos a função **[StandardScaler](https://scikit-learn.org/stable/modules/generated/sklearn.preprocessing.StandardScaler.html)**, que pertence ao pacote **`sklearn.preprocessing`**."
   ]
  },
  {
   "cell_type": "code",
   "execution_count": 11,
   "metadata": {},
   "outputs": [
    {
     "name": "stdout",
     "output_type": "stream",
     "text": [
      "O arquivo 'scaler_v2.pck' (object) foi salvo com sucesso!\n"
     ]
    }
   ],
   "source": [
    "# Criando o objeto \"scaler\":\n",
    "scaler = StandardScaler()\n",
    "\n",
    "# Fit nos dados de treino:\n",
    "scaler.fit(X_train_bal)\n",
    "\n",
    "# Salvando o objeto \"scaler\" na pasta \"./objects\":\n",
    "dslib.pickle_object_save (\n",
    "    path=OBJ_PATH, file=\"scaler_v2.pck\", object_name=scaler,\n",
    "    msg=\"O arquivo 'scaler_v2.pck' (object) foi salvo com sucesso!\")"
   ]
  },
  {
   "cell_type": "code",
   "execution_count": 12,
   "metadata": {},
   "outputs": [],
   "source": [
    "# Aplicando a normalização nos dados de treino:\n",
    "X_train_bal = scaler.transform(X=X_train_bal)\n",
    "\n",
    "# Aplicando a normalização nos dados de teste:\n",
    "X_test = scaler.transform(X=X_test)"
   ]
  },
  {
   "cell_type": "markdown",
   "metadata": {},
   "source": [
    "**Análise:** portanto, temos o nosso *dataset* de *treino* **balanceado** e pronto para ser utilizado na **modelagem preditiva**."
   ]
  },
  {
   "cell_type": "markdown",
   "metadata": {},
   "source": [
    "## 5- Criação de modelos preditivos (`versão 2`)\n",
    "\n",
    "Agora, vamos realizar a etapa de criação dos **modelos preditivos**, realizando o treinamento e validação de alguns algoritmos de ***machine learning***.\n",
    "\n",
    "Nesta versão (**v2**), vamos treinar e validar os modelos utilizando as seguintes premissas:\n",
    "\n",
    "* utilização de **todas** as variáveis preditoras (`X1, X2, ..., X178`);\n",
    "\n",
    "* normalização das variáveis preditoras (`X1, X2, ..., X178`);\n",
    "\n",
    "* balanceamento do *dataset* de treino, onde eliminamos registros da classe majoritária (`target = 0`) aplicando o método estatístico de **amostragem estratificada**."
   ]
  },
  {
   "cell_type": "markdown",
   "metadata": {},
   "source": [
    "Como equilibramos nossos dados de treinamento, através do **balanceamento**, vamos definir nosso limite em **0.5** para rotular uma amostra prevista como positiva. Portanto, as probabilidades previstas que foram acima deste valor (**THRESHOLD**) serão **rotuladas** como positiva (**`target = 1`**), ou seja, significa que os **pacientes terão crises epiléticas**."
   ]
  },
  {
   "cell_type": "code",
   "execution_count": 13,
   "metadata": {},
   "outputs": [],
   "source": [
    "# Definindo o valor limite (THRESHOLD):\n",
    "THRESHOLD = 0.5"
   ]
  },
  {
   "cell_type": "code",
   "execution_count": 14,
   "metadata": {},
   "outputs": [],
   "source": [
    "# Criando um dicionário dos modelos que serão treinados:\n",
    "models = {\n",
    "    'SGD' :SGDClassifier(loss='modified_huber', max_iter=1000, tol=1e-3, random_state=SEED),\n",
    "    'KNN' :KNeighborsClassifier(n_jobs=-1),\n",
    "    'LR'  :LogisticRegression(random_state = SEED),\n",
    "    'DTC' :DecisionTreeClassifier(random_state=SEED),\n",
    "    'RFC' :RandomForestClassifier(random_state=SEED),\n",
    "    'LDA' :LinearDiscriminantAnalysis(solver='eigen', shrinkage='auto'),\n",
    "    'NB'  :GaussianNB(),\n",
    "    'XGBC':XGBClassifier(random_state=SEED, n_jobs=-1)\n",
    "}"
   ]
  },
  {
   "cell_type": "markdown",
   "metadata": {},
   "source": [
    "## 5.1- [SGD](https://scikit-learn.org/stable/modules/generated/sklearn.linear_model.SGDClassifier.html) (Stochastic Gradient Descent):"
   ]
  },
  {
   "cell_type": "code",
   "execution_count": 15,
   "metadata": {},
   "outputs": [
    {
     "name": "stdout",
     "output_type": "stream",
     "text": [
      "Iniciando o treinamento/avaliação com o 'SGD'...\n",
      "\n",
      "Training Metrics:\n",
      "AUC      : 0.5559\n",
      "Accuracy : 0.5546\n",
      "Precision: 0.5569\n",
      "Recall   : 0.5348\n",
      "f1-score : 0.5456\n",
      "\n",
      "Validation Metrics:\n",
      "AUC      : 0.5395\n",
      "Accuracy : 0.5565\n",
      "Precision: 0.2297\n",
      "Recall   : 0.5174\n",
      "f1-score : 0.3182\n",
      "\n",
      "Tempo gasto para o treinamento/avaliação com o 'SGD': 0.18 seconds.\n"
     ]
    }
   ],
   "source": [
    "# Inicia o treinamento e avaliação:\n",
    "ept.start(msg=\"Iniciando o treinamento/avaliação com o 'SGD'...\")\n",
    "\n",
    "# Treinando e avalidando o classificador binário com o SGD:\n",
    "sgd, sgd_train_mtcs, sgd_test_mtcs = mllib.train_validate_binary_clf_model(\n",
    "    classifier=models['SGD'], X_train=X_train_bal, y_train=y_train_bal, X_valid=X_test, y_valid=y_test, threshold=THRESHOLD\n",
    ")\n",
    "\n",
    "# Fim do treinamento e avaliação:\n",
    "ept.end(msg=\"\\nTempo gasto para o treinamento/avaliação com o 'SGD':\")"
   ]
  },
  {
   "cell_type": "markdown",
   "metadata": {},
   "source": [
    "**Análise:**\n",
    "\n",
    "1. com o classificador **`SGD`** obtivemos uma taxa de **acurácia** de **55.65%** nos dados de teste, ou seja, é a porcentagem de pacientes, classificados corretamente por ele, que **terão uma crise epilética** e que **não terão uma crise epilética**. Portanto, o nosso classificador **`SGD`** apresentou uma performance **muito ruim**;\n",
    "\n",
    "2. com o nosso classificador **`SGD`** obtivemos uma taxa de **precisão** de **22.97%** nos dados de teste, ou seja, é a porcentagem de pacientes, classificados corretamente por ele, que **terão uma crise epilética**. Portanto, o nosso modelo apresentou uma performance **muito ruim** porque em apenas **23%** dos pacientes ele acertou que os mesmos **terão uma crise epilética**;\n",
    "\n",
    "3. com o nosso classificador **`SGD`** obtivemos uma taxa de **revocação** de **51.74%** nos dados de teste, ou seja, é a porcentagem de pacientes, que ele conseguiu detectar, que **terão uma crise epilética**. Portanto, o nosso modelo apresentou uma performance **muito ruim** porque em apenas **52%** dos pacientes ele conseguiu detectar que os mesmos **terão uma crise epilética**;\n",
    "\n",
    "4. com o classificador **`SGD`** obtivemos uma **`pontuação F1`** **muito baixa**, porque as taxas de **precisão** e **revocação** também foram muito baixas."
   ]
  },
  {
   "cell_type": "markdown",
   "metadata": {},
   "source": [
    "### `ROC Curve`"
   ]
  },
  {
   "cell_type": "code",
   "execution_count": 16,
   "metadata": {},
   "outputs": [
    {
     "data": {
      "image/png": "[encoded data removed]",
      "text/plain": [
       "<Figure size 504x360 with 1 Axes>"
      ]
     },
     "metadata": {},
     "output_type": "display_data"
    }
   ],
   "source": [
    "# Dados de teste: obtendo as probabilidades da classe positiva (1):\n",
    "y_test_preds = sgd.predict_proba(X_test)[:,1]\n",
    "\n",
    "# Calculando o \"FPR\", \"TPR\" e \"Thresholds\":\n",
    "fpr, tpr, thresholds = roc_curve(y_test, y_test_preds)\n",
    "\n",
    "# Plot da \"Curva ROC\":\n",
    "ptlib.plot_roc_curve(\n",
    "    fpr, tpr, auc=sgd_test_mtcs['auc'], auc_decimals=2, plot_style='ggplot', color='red', line_width=2,\n",
    "    title='ROC curve', title_fontsize=18, labels_fontsize=15, ticks_fontsize=13,\n",
    "    legendtitle='Model(AUC)', legendtitle_fontsize=13, legend_label='SGD', legend_fontsize=13,\n",
    "    width=7, height=5, figure_id=None, figure_path=GRAPHICS_PATH,\n",
    "    figure_file_format=\"png\", figure_file_extension=\".png\", tight_layout=True, dpi=300\n",
    ")"
   ]
  },
  {
   "cell_type": "markdown",
   "metadata": {},
   "source": [
    "**Análise:**\n",
    "\n",
    "Podemos observar que o nosso classificador **`SGD`** apresentou uma ***`ROC curve`*** **muito distante** do *canto superior esquerdo*. Observe que a métrica **`AUC = 53.95%`** ficou **muito abaixo** do valor proposto de avaliação do projeto (**`AUC = ~99%`**)."
   ]
  },
  {
   "cell_type": "markdown",
   "metadata": {},
   "source": [
    "## 5.2- [KNN](https://scikit-learn.org/stable/modules/generated/sklearn.neighbors.KNeighborsClassifier.html) (K Nearest Neighbors):"
   ]
  },
  {
   "cell_type": "code",
   "execution_count": 17,
   "metadata": {},
   "outputs": [
    {
     "name": "stdout",
     "output_type": "stream",
     "text": [
      "Iniciando o treinamento/avaliação com o 'KNN'...\n",
      "\n",
      "Training Metrics:\n",
      "AUC      : 0.9973\n",
      "Accuracy : 0.8837\n",
      "Precision: 0.9958\n",
      "Recall   : 0.7707\n",
      "f1-score : 0.8689\n",
      "\n",
      "Validation Metrics:\n",
      "AUC      : 0.9439\n",
      "Accuracy : 0.9409\n",
      "Precision: 0.9576\n",
      "Recall   : 0.737\n",
      "f1-score : 0.8329\n",
      "\n",
      "Tempo gasto para o treinamento/avaliação com o 'KNN': 1.11 seconds.\n"
     ]
    }
   ],
   "source": [
    "# Inicia o treinamento e avaliação:\n",
    "ept.start(msg=\"Iniciando o treinamento/avaliação com o 'KNN'...\")\n",
    "\n",
    "# Treinando e avalidando o classificador binário com o KNN:\n",
    "knn, knn_train_mtcs, knn_test_mtcs = mllib.train_validate_binary_clf_model(\n",
    "    classifier=models['KNN'], X_train=X_train_bal, y_train=y_train_bal, X_valid=X_test, y_valid=y_test, threshold=THRESHOLD\n",
    ")\n",
    "\n",
    "# Fim do treinamento e avaliação:\n",
    "ept.end(msg=\"\\nTempo gasto para o treinamento/avaliação com o 'KNN':\")"
   ]
  },
  {
   "cell_type": "markdown",
   "metadata": {},
   "source": [
    "**Análise:**\n",
    "\n",
    "1. com o classificador **`KNN`** obtivemos uma taxa de **acurácia** de **94.09%** nos dados de teste, ou seja, é a porcentagem de pacientes, classificados corretamente por ele, que **terão uma crise epilética** e que **não terão uma crise epilética**. Portanto, o nosso classificador **`KNN`** apresentou uma performance **excelente**;\n",
    "\n",
    "2. com o nosso classificador **`KNN`** obtivemos uma taxa de **precisão** de **95.76%** nos dados de teste, ou seja, é a porcentagem de pacientes, classificados corretamente por ele, que **terão uma crise epilética**. Portanto, o nosso modelo apresentou uma performance **excelente** porque em **96%** dos pacientes ele acertou que os mesmos **terão uma crise epilética**;\n",
    "\n",
    "3. com o nosso classificador **`KNN`** obtivemos uma taxa de **revocação** de **73.70%** nos dados de teste, ou seja, é a porcentagem de pacientes, que ele conseguiu detectar, que **terão uma crise epilética**. Portanto, o nosso modelo apresentou uma performance **boa** porque em **74%** dos pacientes ele conseguiu detectar que os mesmos **terão uma crise epilética**;\n",
    "\n",
    "4. com o classificador **`KNN`** obtivemos uma **`pontuação F1`** **muito alta**, porque as taxas de **precisão** e **revocação** também foram muito altas."
   ]
  },
  {
   "cell_type": "markdown",
   "metadata": {},
   "source": [
    "### `ROC Curve`"
   ]
  },
  {
   "cell_type": "code",
   "execution_count": 18,
   "metadata": {},
   "outputs": [
    {
     "data": {
      "image/png": "[encoded data removed]",
      "text/plain": [
       "<Figure size 504x360 with 1 Axes>"
      ]
     },
     "metadata": {},
     "output_type": "display_data"
    }
   ],
   "source": [
    "# Dados de teste: obtendo as probabilidades da classe positiva (1):\n",
    "y_test_preds = knn.predict_proba(X_test)[:,1]\n",
    "\n",
    "# Calculando o \"FPR\", \"TPR\" e \"Thresholds\":\n",
    "fpr, tpr, thresholds = roc_curve(y_test, y_test_preds)\n",
    "\n",
    "# Plot da \"Curva ROC\":\n",
    "ptlib.plot_roc_curve(\n",
    "    fpr, tpr, auc=knn_test_mtcs['auc'], auc_decimals=2, plot_style='ggplot', color='red', line_width=2,\n",
    "    title='ROC curve', title_fontsize=18, labels_fontsize=15, ticks_fontsize=13,\n",
    "    legendtitle='Model(AUC)', legendtitle_fontsize=13, legend_label='KNN', legend_fontsize=13,\n",
    "    width=7, height=5, figure_id=None, figure_path=GRAPHICS_PATH,\n",
    "    figure_file_format=\"png\", figure_file_extension=\".png\", tight_layout=True, dpi=300\n",
    ")"
   ]
  },
  {
   "cell_type": "markdown",
   "metadata": {},
   "source": [
    "**Análise:**\n",
    "\n",
    "Podemos observar que o nosso classificador **`KNN`** apresentou uma ***`ROC curve`*** **muito próxima** do *canto superior esquerdo*. Observe também que a métrica **`AUC = 94.39%`** ficou **muito próxima** do valor proposto de avaliação do projeto (**`AUC = ~99%`**)."
   ]
  },
  {
   "cell_type": "markdown",
   "metadata": {},
   "source": [
    "## 5.3- [Logistic Regression](https://scikit-learn.org/stable/modules/generated/sklearn.linear_model.LogisticRegression.html):"
   ]
  },
  {
   "cell_type": "code",
   "execution_count": 19,
   "metadata": {},
   "outputs": [
    {
     "name": "stdout",
     "output_type": "stream",
     "text": [
      "Iniciando o treinamento/avaliação com o 'LR'...\n",
      "\n",
      "Training Metrics:\n",
      "AUC      : 0.6107\n",
      "Accuracy : 0.6266\n",
      "Precision: 0.662\n",
      "Recall   : 0.5174\n",
      "f1-score : 0.5808\n",
      "\n",
      "Validation Metrics:\n",
      "AUC      : 0.5357\n",
      "Accuracy : 0.667\n",
      "Precision: 0.2932\n",
      "Recall   : 0.4717\n",
      "f1-score : 0.3617\n",
      "\n",
      "Tempo gasto para o treinamento/avaliação com o 'LR': 0.13 seconds.\n"
     ]
    }
   ],
   "source": [
    "# Inicia o treinamento e avaliação:\n",
    "ept.start(msg=\"Iniciando o treinamento/avaliação com o 'LR'...\")\n",
    "\n",
    "# Treinando e avalidando o classificador binário com o LR:\n",
    "lr, lr_train_mtcs, lr_test_mtcs = mllib.train_validate_binary_clf_model(\n",
    "    classifier=models['LR'], X_train=X_train_bal, y_train=y_train_bal, X_valid=X_test, y_valid=y_test, threshold=THRESHOLD\n",
    ")\n",
    "\n",
    "# Fim do treinamento e avaliação:\n",
    "ept.end(msg=\"\\nTempo gasto para o treinamento/avaliação com o 'LR':\")"
   ]
  },
  {
   "cell_type": "markdown",
   "metadata": {},
   "source": [
    "**Análise:**\n",
    "\n",
    "1. com o classificador **`LR`** obtivemos uma taxa de **acurácia** de **66.70%** nos dados de teste, ou seja, é a porcentagem de pacientes, classificados corretamente por ele, que **terão uma crise epilética** e que **não terão uma crise epilética**. Portanto, o nosso classificador **`LR`** apresentou uma performance **razoável**;\n",
    "\n",
    "2. com o nosso classificador **`LR`** obtivemos uma taxa de **precisão** de **29.32%** nos dados de teste, ou seja, é a porcentagem de pacientes, classificados corretamente por ele, que **terão uma crise epilética**. Portanto, o nosso modelo apresentou uma performance **muito ruim** porque em apenas **29%** dos pacientes ele acertou que os mesmos **terão uma crise epilética**;\n",
    "\n",
    "3. com o nosso classificador **`LR`** obtivemos uma taxa de **revocação** de **47.17%** nos dados de teste, ou seja, é a porcentagem de pacientes, que ele conseguiu detectar, que **terão uma crise epilética**. Portanto, o nosso modelo apresentou uma performance **muito ruim** porque em apenas **47%** dos pacientes ele conseguiu detectar que os mesmos **terão uma crise epilética**;\n",
    "\n",
    "4. com o classificador **`LR`** obtivemos uma **`pontuação F1`** **muito baixa**, porque as taxas de **precisão** e **revocação** também foram muito baixas."
   ]
  },
  {
   "cell_type": "markdown",
   "metadata": {},
   "source": [
    "### `ROC Curve`"
   ]
  },
  {
   "cell_type": "code",
   "execution_count": 20,
   "metadata": {},
   "outputs": [
    {
     "data": {
      "image/png": "[encoded data removed]",
      "text/plain": [
       "<Figure size 504x360 with 1 Axes>"
      ]
     },
     "metadata": {},
     "output_type": "display_data"
    }
   ],
   "source": [
    "# Dados de teste: obtendo as probabilidades da classe positiva (1):\n",
    "y_test_preds = lr.predict_proba(X_test)[:,1]\n",
    "\n",
    "# Calculando o \"FPR\", \"TPR\" e \"Thresholds\":\n",
    "fpr, tpr, thresholds = roc_curve(y_test, y_test_preds)\n",
    "\n",
    "# Plot da \"Curva ROC\":\n",
    "ptlib.plot_roc_curve(\n",
    "    fpr, tpr, auc=lr_test_mtcs['auc'], auc_decimals=2, plot_style='ggplot', color='red', line_width=2,\n",
    "    title='ROC curve', title_fontsize=18, labels_fontsize=15, ticks_fontsize=13,\n",
    "    legendtitle='Model(AUC)', legendtitle_fontsize=13, legend_label='LR', legend_fontsize=13,\n",
    "    width=7, height=5, figure_id=None, figure_path=GRAPHICS_PATH,\n",
    "    figure_file_format=\"png\", figure_file_extension=\".png\", tight_layout=True, dpi=300\n",
    ")"
   ]
  },
  {
   "cell_type": "markdown",
   "metadata": {},
   "source": [
    "**Análise:**\n",
    "\n",
    "Podemos observar que o nosso classificador **`LR`** apresentou uma ***`ROC curve`*** **muito distante** do *canto superior esquerdo*. Observe também que a métrica **`AUC = 53.57%`** ficou **muito abaixo** do valor proposto de avaliação do projeto (**`AUC = ~99%`**)."
   ]
  },
  {
   "cell_type": "markdown",
   "metadata": {},
   "source": [
    "## 5.4- [DTC](https://scikit-learn.org/stable/modules/generated/sklearn.tree.DecisionTreeClassifier.html) (Decision Tree Classifier):"
   ]
  },
  {
   "cell_type": "code",
   "execution_count": 21,
   "metadata": {},
   "outputs": [
    {
     "name": "stdout",
     "output_type": "stream",
     "text": [
      "Iniciando o treinamento/avaliação com o 'DTC'...\n",
      "\n",
      "Training Metrics:\n",
      "AUC      : 1.0\n",
      "Accuracy : 1.0\n",
      "Precision: 1.0\n",
      "Recall   : 1.0\n",
      "f1-score : 1.0\n",
      "\n",
      "Validation Metrics:\n",
      "AUC      : 0.9101\n",
      "Accuracy : 0.907\n",
      "Precision: 0.7064\n",
      "Recall   : 0.9152\n",
      "f1-score : 0.7973\n",
      "\n",
      "Tempo gasto para o treinamento/avaliação com o 'DTC': 0.64 seconds.\n"
     ]
    }
   ],
   "source": [
    "# Inicia o treinamento e avaliação:\n",
    "ept.start(msg=\"Iniciando o treinamento/avaliação com o 'DTC'...\")\n",
    "\n",
    "# Treinando e avalidando o classificador binário com o DTC:\n",
    "dtc, dtc_train_mtcs, dtc_test_mtcs = mllib.train_validate_binary_clf_model(\n",
    "    classifier=models['DTC'], X_train=X_train_bal, y_train=y_train_bal, X_valid=X_test, y_valid=y_test, threshold=THRESHOLD\n",
    ")\n",
    "\n",
    "# Fim do treinamento e avaliação:\n",
    "ept.end(msg=\"\\nTempo gasto para o treinamento/avaliação com o 'DTC':\")"
   ]
  },
  {
   "cell_type": "markdown",
   "metadata": {},
   "source": [
    "**Análise:**\n",
    "\n",
    "1. com o classificador **`DTC`** obtivemos uma taxa de **acurácia** de **90.70%** nos dados de teste, ou seja, é a porcentagem de pacientes, classificados corretamente por ele, que **terão uma crise epilética** e que **não terão uma crise epilética**. Portanto, o nosso classificador **`DTC`** apresentou uma performance **muito boa**;\n",
    "\n",
    "2. com o nosso classificador **`DTC`** obtivemos uma taxa de **precisão** de **70.64%** nos dados de teste, ou seja, é a porcentagem de pacientes, classificados corretamente por ele, que **terão uma crise epilética**. Portanto, o nosso modelo apresentou uma performance **boa** porque em **70%** dos pacientes ele acertou que os mesmos **terão uma crise epilética**;\n",
    "\n",
    "3. com o nosso classificador **`DTC`** obtivemos uma taxa de **revocação** de **91.52%** nos dados de teste, ou seja, é a porcentagem de pacientes, que ele conseguiu detectar, que **terão uma crise epilética**. Portanto, o nosso modelo apresentou uma performance **muito boa** porque em **91%** dos pacientes ele conseguiu detectar que os mesmos **terão uma crise epilética**;\n",
    "\n",
    "4. com o classificador **`DTC`** obtivemos uma **`pontuação F1`** **média**, porque a taxa de **precisão** foi baixa e a taxa de **revocação** foi alta."
   ]
  },
  {
   "cell_type": "markdown",
   "metadata": {},
   "source": [
    "### `ROC Curve`"
   ]
  },
  {
   "cell_type": "code",
   "execution_count": 22,
   "metadata": {},
   "outputs": [
    {
     "data": {
      "image/png": "[encoded data removed]",
      "text/plain": [
       "<Figure size 504x360 with 1 Axes>"
      ]
     },
     "metadata": {},
     "output_type": "display_data"
    }
   ],
   "source": [
    "# Dados de teste: obtendo as probabilidades da classe positiva (1):\n",
    "y_test_preds = dtc.predict_proba(X_test)[:,1]\n",
    "\n",
    "# Calculando o \"FPR\", \"TPR\" e \"Thresholds\":\n",
    "fpr, tpr, thresholds = roc_curve(y_test, y_test_preds)\n",
    "\n",
    "# Plot da \"Curva ROC\":\n",
    "ptlib.plot_roc_curve(\n",
    "    fpr, tpr, auc=dtc_test_mtcs['auc'], auc_decimals=2, plot_style='ggplot', color='red', line_width=2,\n",
    "    title='ROC curve', title_fontsize=18, labels_fontsize=15, ticks_fontsize=13,\n",
    "    legendtitle='Model(AUC)', legendtitle_fontsize=13, legend_label='DTC', legend_fontsize=13,\n",
    "    width=7, height=5, figure_id=None, figure_path=GRAPHICS_PATH,\n",
    "    figure_file_format=\"png\", figure_file_extension=\".png\", tight_layout=True, dpi=300\n",
    ")"
   ]
  },
  {
   "cell_type": "markdown",
   "metadata": {},
   "source": [
    "**Análise:**\n",
    "\n",
    "Podemos observar que o nosso classificador **`DTC`** apresentou uma ***`ROC curve`*** **próxima** do *canto superior esquerdo*. Observe também que a métrica **`AUC = 91.01%`** ficou **próxima** do valor proposto de avaliação do projeto (**`AUC = ~99%`**)."
   ]
  },
  {
   "cell_type": "markdown",
   "metadata": {},
   "source": [
    "## 5.5- [RFC](https://scikit-learn.org/stable/modules/generated/sklearn.ensemble.RandomForestClassifier.html) (Random Forest Classifier):"
   ]
  },
  {
   "cell_type": "code",
   "execution_count": 23,
   "metadata": {},
   "outputs": [
    {
     "name": "stdout",
     "output_type": "stream",
     "text": [
      "Iniciando o treinamento/avaliação com o 'RFC'...\n",
      "\n",
      "Training Metrics:\n",
      "AUC      : 1.0\n",
      "Accuracy : 1.0\n",
      "Precision: 1.0\n",
      "Recall   : 1.0\n",
      "f1-score : 1.0\n",
      "\n",
      "Validation Metrics:\n",
      "AUC      : 0.9956\n",
      "Accuracy : 0.9539\n",
      "Precision: 0.8172\n",
      "Recall   : 0.9913\n",
      "f1-score : 0.8959\n",
      "\n",
      "Tempo gasto para o treinamento/avaliação com o 'RFC': 3.13 seconds.\n"
     ]
    }
   ],
   "source": [
    "# Inicia o treinamento e avaliação:\n",
    "ept.start(msg=\"Iniciando o treinamento/avaliação com o 'RFC'...\")\n",
    "\n",
    "# Treinando e avalidando o classificador binário com o RFC:\n",
    "rfc, rfc_train_mtcs, rfc_test_mtcs = mllib.train_validate_binary_clf_model(\n",
    "    classifier=models['RFC'], X_train=X_train_bal, y_train=y_train_bal, X_valid=X_test, y_valid=y_test, threshold=THRESHOLD\n",
    ")\n",
    "\n",
    "# Fim do treinamento e avaliação:\n",
    "ept.end(msg=\"\\nTempo gasto para o treinamento/avaliação com o 'RFC':\")"
   ]
  },
  {
   "cell_type": "markdown",
   "metadata": {},
   "source": [
    "**Análise:**\n",
    "\n",
    "1. com o classificador **`RFC`** obtivemos uma taxa de **acurácia** de **95.39%** nos dados de teste, ou seja, é a porcentagem de pacientes, classificados corretamente por ele, que **terão uma crise epilética** e que **não terão uma crise epilética**. Portanto, o nosso classificador **`RFC`** apresentou uma performance **excelente**;\n",
    "\n",
    "2. com o nosso classificador **`RFC`** obtivemos uma taxa de **precisão** de **81.72%** nos dados de teste, ou seja, é a porcentagem de pacientes, classificados corretamente por ele, que **terão uma crise epilética**. Portanto, o nosso modelo apresentou uma performance **muito boa** porque em **82%** dos pacientes ele acertou que os mesmos **terão uma crise epilética**;\n",
    "\n",
    "3. com o nosso classificador **`RFC`** obtivemos uma taxa de **revocação** de **99.13%** nos dados de teste, ou seja, é a porcentagem de pacientes, que ele conseguiu detectar, que **terão uma crise epilética**. Portanto, o nosso modelo apresentou uma performance **excelente** porque em **99%** dos pacientes ele conseguiu detectar que os mesmos **terão uma crise epilética**;\n",
    "\n",
    "4. com o classificador **`RFC`** obtivemos uma **`pontuação F1`** **muito alta**, porque as taxas de **precisão** e **revocação** também foram muito altas."
   ]
  },
  {
   "cell_type": "markdown",
   "metadata": {},
   "source": [
    "### `ROC Curve`"
   ]
  },
  {
   "cell_type": "code",
   "execution_count": 24,
   "metadata": {},
   "outputs": [
    {
     "data": {
      "image/png": "[encoded data removed]",
      "text/plain": [
       "<Figure size 504x360 with 1 Axes>"
      ]
     },
     "metadata": {},
     "output_type": "display_data"
    }
   ],
   "source": [
    "# Dados de teste: obtendo as probabilidades da classe positiva (1):\n",
    "y_test_preds = rfc.predict_proba(X_test)[:,1]\n",
    "\n",
    "# Calculando o \"FPR\", \"TPR\" e \"Thresholds\":\n",
    "fpr, tpr, thresholds = roc_curve(y_test, y_test_preds)\n",
    "\n",
    "# Plot da \"Curva ROC\":\n",
    "ptlib.plot_roc_curve(\n",
    "    fpr, tpr, auc=rfc_test_mtcs['auc'], auc_decimals=2, plot_style='ggplot', color='red', line_width=2,\n",
    "    title='ROC curve', title_fontsize=18, labels_fontsize=15, ticks_fontsize=13,\n",
    "    legendtitle='Model(AUC)', legendtitle_fontsize=13, legend_label='RFC', legend_fontsize=13,\n",
    "    width=7, height=5, figure_id=None, figure_path=GRAPHICS_PATH,\n",
    "    figure_file_format=\"png\", figure_file_extension=\".png\", tight_layout=True, dpi=300\n",
    ")"
   ]
  },
  {
   "cell_type": "markdown",
   "metadata": {},
   "source": [
    "**Análise:**\n",
    "\n",
    "Podemos observar que o nosso classificador **`RFC`** apresentou uma ***`ROC curve`*** **muito próxima** do *canto superior esquerdo*. Observe também que a métrica **`AUC = 99.56%`** ficou **acima** do valor proposto de avaliação do projeto (**`AUC = ~99%`**)."
   ]
  },
  {
   "cell_type": "markdown",
   "metadata": {},
   "source": [
    "## 5.6- [LDA](https://scikit-learn.org/stable/modules/generated/sklearn.discriminant_analysis.LinearDiscriminantAnalysis.html) (Linear Discriminant Analysis):"
   ]
  },
  {
   "cell_type": "code",
   "execution_count": 25,
   "metadata": {},
   "outputs": [
    {
     "name": "stdout",
     "output_type": "stream",
     "text": [
      "Iniciando o treinamento/avaliação com o 'LDA'...\n",
      "\n",
      "Training Metrics:\n",
      "AUC      : 0.5797\n",
      "Accuracy : 0.6065\n",
      "Precision: 0.6321\n",
      "Recall   : 0.5098\n",
      "f1-score : 0.5644\n",
      "\n",
      "Validation Metrics:\n",
      "AUC      : 0.5167\n",
      "Accuracy : 0.637\n",
      "Precision: 0.2611\n",
      "Recall   : 0.4457\n",
      "f1-score : 0.3293\n",
      "\n",
      "Tempo gasto para o treinamento/avaliação com o 'LDA': 0.13 seconds.\n"
     ]
    }
   ],
   "source": [
    "# Inicia o treinamento e avaliação:\n",
    "ept.start(msg=\"Iniciando o treinamento/avaliação com o 'LDA'...\")\n",
    "\n",
    "# Treinando e avalidando o classificador binário com o LDA:\n",
    "lda, lda_train_mtcs, lda_test_mtcs = mllib.train_validate_binary_clf_model(\n",
    "    classifier=models['LDA'], X_train=X_train_bal, y_train=y_train_bal, X_valid=X_test, y_valid=y_test, threshold=THRESHOLD\n",
    ")\n",
    "\n",
    "# Fim do treinamento e avaliação:\n",
    "ept.end(msg=\"\\nTempo gasto para o treinamento/avaliação com o 'LDA':\")"
   ]
  },
  {
   "cell_type": "markdown",
   "metadata": {},
   "source": [
    "**Análise:**\n",
    "\n",
    "1. com o classificador **`LDA`** obtivemos uma taxa de **acurácia** de **63.70%** nos dados de teste, ou seja, é a porcentagem de pacientes, classificados corretamente por ele, que **terão uma crise epilética** e que **não terão uma crise epilética**. Portanto, o nosso classificador **`LDA`** apresentou uma performance **boa**;\n",
    "\n",
    "2. com o nosso classificador **`LDA`** obtivemos uma taxa de **precisão** de **26.11%** nos dados de teste, ou seja, é a porcentagem de pacientes, classificados corretamente por ele, que **terão uma crise epilética**. Portanto, o nosso modelo apresentou uma performance **muito ruim** porque em apenas **26%** dos pacientes ele acertou que os mesmos **terão uma crise epilética**;\n",
    "\n",
    "3. com o nosso classificador **`LDA`** obtivemos uma taxa de **revocação** de **44.57%** nos dados de teste, ou seja, é a porcentagem de pacientes, que ele conseguiu detectar, que **terão uma crise epilética**. Portanto, o nosso modelo apresentou uma performance **muito ruim** porque em apenas **45%** dos pacientes ele conseguiu detectar que os mesmos **terão uma crise epilética**;\n",
    "\n",
    "4. com o classificador **`LDA`** obtivemos uma **`pontuação F1`** **muito baixa**, porque as taxas de **precisão** e **revocação** também foram muito baixas."
   ]
  },
  {
   "cell_type": "markdown",
   "metadata": {},
   "source": [
    "### `ROC Curve`"
   ]
  },
  {
   "cell_type": "code",
   "execution_count": 26,
   "metadata": {},
   "outputs": [
    {
     "data": {
      "image/png": "[encoded data removed]",
      "text/plain": [
       "<Figure size 504x360 with 1 Axes>"
      ]
     },
     "metadata": {},
     "output_type": "display_data"
    }
   ],
   "source": [
    "# Dados de teste: obtendo as probabilidades da classe positiva (1):\n",
    "y_test_preds = lda.predict_proba(X_test)[:,1]\n",
    "\n",
    "# Calculando o \"FPR\", \"TPR\" e \"Thresholds\":\n",
    "fpr, tpr, thresholds = roc_curve(y_test, y_test_preds)\n",
    "\n",
    "# Plot da \"Curva ROC\":\n",
    "ptlib.plot_roc_curve(\n",
    "    fpr, tpr, auc=lda_test_mtcs['auc'], auc_decimals=2, plot_style='ggplot', color='red', line_width=2,\n",
    "    title='ROC curve', title_fontsize=18, labels_fontsize=15, ticks_fontsize=13,\n",
    "    legendtitle='Model(AUC)', legendtitle_fontsize=13, legend_label='LDA', legend_fontsize=13,\n",
    "    width=7, height=5, figure_id=None, figure_path=GRAPHICS_PATH,\n",
    "    figure_file_format=\"png\", figure_file_extension=\".png\", tight_layout=True, dpi=300\n",
    ")"
   ]
  },
  {
   "cell_type": "markdown",
   "metadata": {},
   "source": [
    "**Análise:**\n",
    "\n",
    "Podemos observar que o nosso classificador **`LDA`** apresentou uma ***`ROC curve`*** **muito distante** do *canto superior esquerdo*. Observe também que a métrica **`AUC = 51.67%`** ficou **muito abaixo** do valor proposto de avaliação do projeto (**`AUC = ~99%`**)."
   ]
  },
  {
   "cell_type": "markdown",
   "metadata": {},
   "source": [
    "## 5.7- [NB](https://scikit-learn.org/0.15/modules/generated/sklearn.naive_bayes.GaussianNB.html) (Naive Bayes):"
   ]
  },
  {
   "cell_type": "code",
   "execution_count": 27,
   "metadata": {},
   "outputs": [
    {
     "name": "stdout",
     "output_type": "stream",
     "text": [
      "Iniciando o treinamento/avaliação com o 'NB'...\n",
      "\n",
      "Training Metrics:\n",
      "AUC      : 0.9824\n",
      "Accuracy : 0.9329\n",
      "Precision: 0.9672\n",
      "Recall   : 0.8962\n",
      "f1-score : 0.9303\n",
      "\n",
      "Validation Metrics:\n",
      "AUC      : 0.9827\n",
      "Accuracy : 0.9574\n",
      "Precision: 0.8803\n",
      "Recall   : 0.9109\n",
      "f1-score : 0.8953\n",
      "\n",
      "Tempo gasto para o treinamento/avaliação com o 'NB': 0.04 seconds.\n"
     ]
    }
   ],
   "source": [
    "# Inicia o treinamento e avaliação:\n",
    "ept.start(msg=\"Iniciando o treinamento/avaliação com o 'NB'...\")\n",
    "\n",
    "# Treinando e avalidando o classificador binário com o NB:\n",
    "nb, nb_train_mtcs, nb_test_mtcs = mllib.train_validate_binary_clf_model(\n",
    "    classifier=models['NB'], X_train=X_train_bal, y_train=y_train_bal, X_valid=X_test, y_valid=y_test, threshold=THRESHOLD\n",
    ")\n",
    "\n",
    "# Fim do treinamento e avaliação:\n",
    "ept.end(msg=\"\\nTempo gasto para o treinamento/avaliação com o 'NB':\")"
   ]
  },
  {
   "cell_type": "markdown",
   "metadata": {},
   "source": [
    "**Análise:**\n",
    "\n",
    "1. com o classificador **`NB`** obtivemos uma taxa de **acurácia** de **95.74%** nos dados de teste, ou seja, é a porcentagem de pacientes, classificados corretamente por ele, que **terão uma crise epilética** e que **não terão uma crise epilética**. Portanto, o nosso classificador **`NB`** apresentou uma performance **excelente**;\n",
    "\n",
    "2. com o nosso classificador **`NB`** obtivemos uma taxa de **precisão** de **88.03%** nos dados de teste, ou seja, é a porcentagem de pacientes, classificados corretamente por ele, que **terão uma crise epilética**. Portanto, o nosso modelo apresentou uma performance **muito boa** porque em **88%** dos pacientes ele acertou que os mesmos **terão uma crise epilética**;\n",
    "\n",
    "3. com o nosso classificador **`NB`** obtivemos uma taxa de **revocação** de **91.09%** nos dados de teste, ou seja, é a porcentagem de pacientes, que ele conseguiu detectar, que **terão uma crise epilética**. Portanto, o nosso modelo apresentou uma performance **excelente** porque em **91%** dos pacientes ele conseguiu detectar que os mesmos **terão uma crise epilética**;\n",
    "\n",
    "4. com o classificador **`NB`** obtivemos uma **`pontuação F1`** **muito alta**, porque as taxas de **precisão** e **revocação** também foram muito altas."
   ]
  },
  {
   "cell_type": "markdown",
   "metadata": {},
   "source": [
    "### `ROC Curve`"
   ]
  },
  {
   "cell_type": "code",
   "execution_count": 28,
   "metadata": {},
   "outputs": [
    {
     "data": {
      "image/png": "[encoded data removed]",
      "text/plain": [
       "<Figure size 504x360 with 1 Axes>"
      ]
     },
     "metadata": {},
     "output_type": "display_data"
    }
   ],
   "source": [
    "# Dados de teste: obtendo as probabilidades da classe positiva (1):\n",
    "y_test_preds = nb.predict_proba(X_test)[:,1]\n",
    "\n",
    "# Calculando o \"FPR\", \"TPR\" e \"Thresholds\":\n",
    "fpr, tpr, thresholds = roc_curve(y_test, y_test_preds)\n",
    "\n",
    "# Plot da \"Curva ROC\":\n",
    "ptlib.plot_roc_curve(\n",
    "    fpr, tpr, auc=nb_test_mtcs['auc'], auc_decimals=2, plot_style='ggplot', color='red', line_width=2,\n",
    "    title='ROC curve', title_fontsize=18, labels_fontsize=15, ticks_fontsize=13,\n",
    "    legendtitle='Model(AUC)', legendtitle_fontsize=13, legend_label='NB', legend_fontsize=13,\n",
    "    width=7, height=5, figure_id=None, figure_path=GRAPHICS_PATH,\n",
    "    figure_file_format=\"png\", figure_file_extension=\".png\", tight_layout=True, dpi=300\n",
    ")"
   ]
  },
  {
   "cell_type": "markdown",
   "metadata": {},
   "source": [
    "**Análise:**\n",
    "\n",
    "Podemos observar que o nosso classificador **`NB`** apresentou uma ***`ROC curve`*** **muito próxima** do *canto superior esquerdo*. Observe também que a métrica **`AUC = 98.27%`** ficou **muito próxima** do valor proposto de avaliação do projeto (**`AUC = ~99%`**)."
   ]
  },
  {
   "cell_type": "markdown",
   "metadata": {},
   "source": [
    "## 5.8- [XGBC](https://xgboost.readthedocs.io/en/latest/python/python_api.html?highlight=xgbclassifier#xgboost.XGBClassifier) (XGBoost Classifier):"
   ]
  },
  {
   "cell_type": "code",
   "execution_count": 29,
   "metadata": {},
   "outputs": [
    {
     "name": "stdout",
     "output_type": "stream",
     "text": [
      "Iniciando o treinamento/avaliação com o 'XGBC'...\n",
      "\n",
      "Training Metrics:\n",
      "AUC      : 0.9991\n",
      "Accuracy : 0.9845\n",
      "Precision: 0.9912\n",
      "Recall   : 0.9777\n",
      "f1-score : 0.9844\n",
      "\n",
      "Validation Metrics:\n",
      "AUC      : 0.9929\n",
      "Accuracy : 0.9574\n",
      "Precision: 0.8679\n",
      "Recall   : 0.9283\n",
      "f1-score : 0.8971\n",
      "\n",
      "Tempo gasto para o treinamento/avaliação com o 'XGBC': 0.75 seconds.\n"
     ]
    }
   ],
   "source": [
    "# Inicia o treinamento e avaliação:\n",
    "ept.start(msg=\"Iniciando o treinamento/avaliação com o 'XGBC'...\")\n",
    "\n",
    "# Treinando e avalidando o classificador binário com o XGBC:\n",
    "xgbc, xgbc_train_mtcs, xgbc_test_mtcs = mllib.train_validate_binary_clf_model(\n",
    "    classifier=models['XGBC'], X_train=X_train_bal, y_train=y_train_bal, X_valid=X_test, y_valid=y_test, threshold=THRESHOLD\n",
    ")\n",
    "\n",
    "# Fim do treinamento e avaliação:\n",
    "ept.end(msg=\"\\nTempo gasto para o treinamento/avaliação com o 'XGBC':\")"
   ]
  },
  {
   "cell_type": "markdown",
   "metadata": {},
   "source": [
    "**Análise:**\n",
    "\n",
    "1. com o classificador **`XGBC`** obtivemos uma taxa de **acurácia** de **95.74%** nos dados de teste, ou seja, é a porcentagem de pacientes, classificados corretamente por ele, que **terão uma crise epilética** e que **não terão uma crise epilética**. Portanto, o nosso classificador **`XGBC`** apresentou uma performance **excelente**;\n",
    "\n",
    "2. com o nosso classificador **`XGBC`** obtivemos uma taxa de **precisão** de **86.79%** nos dados de teste, ou seja, é a porcentagem de pacientes, classificados corretamente por ele, que **terão uma crise epilética**. Portanto, o nosso modelo apresentou uma performance **muito boa** porque em **87%** dos pacientes ele acertou que os mesmos **terão uma crise epilética**;\n",
    "\n",
    "3. com o nosso classificador **`XGBC`** obtivemos uma taxa de **revocação** de **92.83%** nos dados de teste, ou seja, é a porcentagem de pacientes, que ele conseguiu detectar, que **terão uma crise epilética**. Portanto, o nosso modelo apresentou uma performance **excelente** porque em **94%** dos pacientes ele conseguiu detectar que os mesmos **terão uma crise epilética**;\n",
    "\n",
    "4. com o classificador **`XGBC`** obtivemos uma **`pontuação F1`** **muito alta**, porque as taxas de **precisão** e **revocação** também foram muito altas."
   ]
  },
  {
   "cell_type": "markdown",
   "metadata": {},
   "source": [
    "### `ROC Curve`"
   ]
  },
  {
   "cell_type": "code",
   "execution_count": 30,
   "metadata": {},
   "outputs": [
    {
     "data": {
      "image/png": "[encoded data removed]",
      "text/plain": [
       "<Figure size 504x360 with 1 Axes>"
      ]
     },
     "metadata": {},
     "output_type": "display_data"
    }
   ],
   "source": [
    "# Dados de teste: obtendo as probabilidades da classe positiva (1):\n",
    "y_test_preds = xgbc.predict_proba(X_test)[:,1]\n",
    "\n",
    "# Calculando o \"FPR\", \"TPR\" e \"Thresholds\":\n",
    "fpr, tpr, thresholds = roc_curve(y_test, y_test_preds)\n",
    "\n",
    "# Plot da \"Curva ROC\":\n",
    "ptlib.plot_roc_curve(\n",
    "    fpr, tpr, auc=xgbc_test_mtcs['auc'], auc_decimals=2, plot_style='ggplot', color='red', line_width=2,\n",
    "    title='ROC curve', title_fontsize=18, labels_fontsize=15, ticks_fontsize=13,\n",
    "    legendtitle='Model(AUC)', legendtitle_fontsize=13, legend_label='XGBC', legend_fontsize=13,\n",
    "    width=7, height=5, figure_id=None, figure_path=GRAPHICS_PATH,\n",
    "    figure_file_format=\"png\", figure_file_extension=\".png\", tight_layout=True, dpi=300\n",
    ")"
   ]
  },
  {
   "cell_type": "markdown",
   "metadata": {},
   "source": [
    "**Análise:**\n",
    "\n",
    "Podemos observar que o nosso classificador **`XGBC`** apresentou uma ***`ROC curve`*** **muito próxima** do *canto superior esquerdo*. Observe também que a métrica **`AUC = 99.29%`** ficou **acima** do valor proposto de avaliação do projeto (**`AUC = ~99%`**)."
   ]
  },
  {
   "cell_type": "markdown",
   "metadata": {},
   "source": [
    "## 6- Conclusão"
   ]
  },
  {
   "cell_type": "markdown",
   "metadata": {},
   "source": [
    "### Salvando as métricas de classificação (`v2`):"
   ]
  },
  {
   "cell_type": "code",
   "execution_count": 31,
   "metadata": {},
   "outputs": [
    {
     "name": "stdout",
     "output_type": "stream",
     "text": [
      "O arquivo 'clf_metrics_v2.pck' (object) foi salvo com sucesso!\n"
     ]
    }
   ],
   "source": [
    "# Criando um data frame para armazenar as métricas:\n",
    "clf_metrics_v2 = pd.DataFrame(\n",
    "    {'model':['SGD','SGD','KNN','KNN','LR','LR','DTC','DTC','RFC','RFC','LDA','LDA','NB','NB','XGBC','XGBC'],\n",
    "     'data set':['train','test']*8,\n",
    "     'auc':[sgd_train_mtcs['auc'],sgd_test_mtcs['auc'],knn_train_mtcs['auc'],knn_test_mtcs['auc'],lr_train_mtcs['auc'],lr_test_mtcs['auc'],dtc_train_mtcs['auc'],dtc_test_mtcs['auc'],rfc_train_mtcs['auc'],rfc_test_mtcs['auc'],lda_train_mtcs['auc'],lda_test_mtcs['auc'],nb_train_mtcs['auc'],nb_test_mtcs['auc'],xgbc_train_mtcs['auc'],xgbc_test_mtcs['auc']],\n",
    "     'accuracy':[sgd_train_mtcs['accuracy'],sgd_test_mtcs['accuracy'],knn_train_mtcs['accuracy'],knn_test_mtcs['accuracy'],lr_train_mtcs['accuracy'],lr_test_mtcs['accuracy'],dtc_train_mtcs['accuracy'],dtc_test_mtcs['accuracy'],rfc_train_mtcs['accuracy'],rfc_test_mtcs['accuracy'],lda_train_mtcs['accuracy'],lda_test_mtcs['accuracy'],nb_train_mtcs['accuracy'],nb_test_mtcs['accuracy'],xgbc_train_mtcs['accuracy'],xgbc_test_mtcs['accuracy']],\n",
    "     'precision':[sgd_train_mtcs['precision'],sgd_test_mtcs['precision'],knn_train_mtcs['precision'],knn_test_mtcs['precision'],lr_train_mtcs['precision'],lr_test_mtcs['precision'],dtc_train_mtcs['precision'],dtc_test_mtcs['precision'],rfc_train_mtcs['precision'],rfc_test_mtcs['precision'],lda_train_mtcs['precision'],lda_test_mtcs['precision'],nb_train_mtcs['precision'],nb_test_mtcs['precision'],xgbc_train_mtcs['precision'],xgbc_test_mtcs['precision']],\n",
    "     'recall':[sgd_train_mtcs['recall'],sgd_test_mtcs['recall'],knn_train_mtcs['recall'],knn_test_mtcs['recall'],lr_train_mtcs['recall'],lr_test_mtcs['recall'],dtc_train_mtcs['recall'],dtc_test_mtcs['recall'],rfc_train_mtcs['recall'],rfc_test_mtcs['recall'],lda_train_mtcs['recall'],lda_test_mtcs['recall'],nb_train_mtcs['recall'],nb_test_mtcs['recall'],xgbc_train_mtcs['recall'],xgbc_test_mtcs['recall']],\n",
    "     'f1-score':[sgd_train_mtcs['f1_score'],sgd_test_mtcs['f1_score'],knn_train_mtcs['f1_score'],knn_test_mtcs['f1_score'],lr_train_mtcs['f1_score'],lr_test_mtcs['f1_score'],dtc_train_mtcs['f1_score'],dtc_test_mtcs['f1_score'],rfc_train_mtcs['f1_score'],rfc_test_mtcs['f1_score'],lda_train_mtcs['f1_score'],lda_test_mtcs['f1_score'],nb_train_mtcs['f1_score'],nb_test_mtcs['f1_score'],xgbc_train_mtcs['f1_score'],xgbc_test_mtcs['f1_score']]\n",
    "    }\n",
    ")\n",
    "\n",
    "# Salvando as métricas (objeto \"clf_metrics_df\") na pasta \"./objects\":\n",
    "dslib.pickle_object_save (\n",
    "    path=OBJ_PATH, file=\"clf_metrics_v2.pck\", object_name=clf_metrics_v2,\n",
    "    msg=\"O arquivo 'clf_metrics_v2.pck' (object) foi salvo com sucesso!\"\n",
    ")"
   ]
  },
  {
   "cell_type": "markdown",
   "metadata": {},
   "source": [
    "### Avaliando a métrica `AUC` nos *datasets* de treino e de teste:\n",
    "\n",
    "Primeiro, vamos plotar um gráfico de barras para avaliarmos o desempenho de cada modelo em relação aos dados de treino e de teste."
   ]
  },
  {
   "cell_type": "code",
   "execution_count": 32,
   "metadata": {},
   "outputs": [
    {
     "name": "stdout",
     "output_type": "stream",
     "text": [
      "Saving figure: plot_auc_train_vs_test_v2\n"
     ]
    },
    {
     "data": {
      "image/png": "[encoded data removed]",
      "text/plain": [
       "<Figure size 1152x576 with 1 Axes>"
      ]
     },
     "metadata": {},
     "output_type": "display_data"
    }
   ],
   "source": [
    "# Comparando a métrica \"AUC\" dos modelos nos dados de treino e teste:\n",
    "ptlib.plot_ml_metrics(\n",
    "    data=clf_metrics_v2, x='model', y='auc', hue='data set', plot_style='seaborn-whitegrid', title=\"AUC: train set vs test set - v2\",\n",
    "    title_fontsize=20, xlabel=\"Models\", xlabel_fontsize=18, ylabel=\"AUC(Area Under Curve)\", ylabel_fontsize=18,\n",
    "    ticks_fontsize=15, legendtitle=\"Data Set\", legendtitle_fontsize=15, legend_label=None, legend_fontsize=15,\n",
    "    legend_loc=2, legend_borderaxespad=0., legend_bbox_to_anchor=(1, 1), width=16, height=8,\n",
    "    figure_id='plot_auc_train_vs_test_v2', figure_path=GRAPHICS_PATH,\n",
    "    figure_file_format=\"png\", figure_file_extension=\".png\", tight_layout=True, dpi=300\n",
    ")"
   ]
  },
  {
   "cell_type": "markdown",
   "metadata": {},
   "source": [
    "**Análise:** podemos observar que os modelos que apresentaram um desempenho melhor, nos dados de treino e teste, foram: **`KNN`**, **`RFC`**, **`NB`** e **`XGBC`**.\n",
    "\n",
    "Agora, vamos avaliar os resultados das métricas **`AUC`** e **`Recall`** considerando apenas os dados de teste."
   ]
  },
  {
   "cell_type": "markdown",
   "metadata": {},
   "source": [
    "### Avaliando as métricas `AUC` e `Recall` nos dados de teste:\n",
    "\n",
    "Agora, vamos plotar um gráfico comparando as métricas **`AUC`** e as métricas de revocação (**`Recall`**), de cada modelo, e então vamos definir qual dos modelos atende as necessidades do projeto para resolver o problema de negócio para o qual ele foi criado:"
   ]
  },
  {
   "cell_type": "markdown",
   "metadata": {},
   "source": [
    "### `AUC`"
   ]
  },
  {
   "cell_type": "code",
   "execution_count": 33,
   "metadata": {
    "scrolled": false
   },
   "outputs": [
    {
     "name": "stdout",
     "output_type": "stream",
     "text": [
      "Saving figure: plot_models_vs_auc_v2\n"
     ]
    },
    {
     "data": {
      "image/png": "[encoded data removed]",
      "text/plain": [
       "<Figure size 576x432 with 1 Axes>"
      ]
     },
     "metadata": {},
     "output_type": "display_data"
    }
   ],
   "source": [
    "# Criando um objeto (Serie) com os valores da métrica \"AUC\" classificados em ordem descrescente:\n",
    "# Criando um índice para selecionarmos apenas as linhas referente aos dados de teste:\n",
    "index = clf_metrics_v2['data set'] == 'test'\n",
    "# Classificando as taxas de \"AUC\":\n",
    "models_auc = clf_metrics_v2.loc[index, ['model','auc']].set_index(keys='model')['auc'].sort_values(ascending=False)\n",
    "\n",
    "# Plot: models vs AUC\n",
    "ptlib.plot_models_vs_scores(\n",
    "    scores=models_auc, plot_style='ggplot', bar_color='coral', alpha=0.8,\n",
    "    score_color='black', score_fontsize=15, title=\"Models vs. AUC (test set) - v2\",\n",
    "    title_fontsize=20, xlabel=\"Scores\", xlabel_fontsize=18, ylabel='Models',\n",
    "    ylabel_fontsize=18, ticks_fontsize=13, width=8, height=6,\n",
    "    figure_id='plot_models_vs_auc_v2', figure_path=GRAPHICS_PATH,\n",
    "    figure_file_format=\"png\", figure_file_extension=\".png\", tight_layout=True, dpi=300\n",
    ")"
   ]
  },
  {
   "cell_type": "markdown",
   "metadata": {},
   "source": [
    "### `Recall`"
   ]
  },
  {
   "cell_type": "code",
   "execution_count": 34,
   "metadata": {},
   "outputs": [
    {
     "name": "stdout",
     "output_type": "stream",
     "text": [
      "Saving figure: plot_models_vs_recall_v2\n"
     ]
    },
    {
     "data": {
      "image/png": "[encoded data removed]",
      "text/plain": [
       "<Figure size 576x432 with 1 Axes>"
      ]
     },
     "metadata": {},
     "output_type": "display_data"
    }
   ],
   "source": [
    "# Criando um objeto (Serie) com os valores da métrica \"Recall\" classificados em ordem descrescente:\n",
    "# Criando um índice para selecionarmos apenas as linhas referente aos dados de teste:\n",
    "index = clf_metrics_v2['data set'] == 'test'\n",
    "# Classificando as taxas de \"Recall\":\n",
    "models_recall = clf_metrics_v2.loc[index, ['model','recall']].set_index(keys='model')['recall'].sort_values(ascending=False)\n",
    "\n",
    "# Plot: models vs AUC\n",
    "ptlib.plot_models_vs_scores(\n",
    "    scores=models_recall, plot_style='ggplot', bar_color='blue', alpha=0.8,\n",
    "    score_color='black', score_fontsize=15, title=\"Models vs. Recall (test set) - v2\",\n",
    "    title_fontsize=20, xlabel=\"Scores\", xlabel_fontsize=18, ylabel='Models',\n",
    "    ylabel_fontsize=18, ticks_fontsize=13, width=8, height=6,\n",
    "    figure_id='plot_models_vs_recall_v2', figure_path=GRAPHICS_PATH,\n",
    "    figure_file_format=\"png\", figure_file_extension=\".png\", tight_layout=True, dpi=300\n",
    ")"
   ]
  },
  {
   "cell_type": "markdown",
   "metadata": {},
   "source": [
    "**Análise:** de acordo com as métricas **`AUC`**, para a versão **`v2`** dos modelos preditivos, dois modelos tiveram um desempenho satisfatório e podem ser utilizados para solucionar o problema de negócio, ou seja, **prever se o paciente terá uma crise epilética**. São eles:\n",
    "\n",
    "1. **`RFC`**: **AUC = 99.56%**;\n",
    "\n",
    "2. **`XGBC`**: **AUC = 99.29%**.\n",
    "\n",
    "Os dois modelos previtivos conseguiram obter na versão **v2**, na métrica **AUC**, o valor mínimo desejado para o projeto que é de **99%**.\n",
    "\n",
    "Entretanto, vamos escolher o modelo **`RFC`** (***Random Forest Classifier***) porque ele apresentou a melhor performance na métrica de revocação (**`Recall`**) entre os modelos, ou seja, em **~99%** dos pacientes ele conseguiu detectar que os mesmos **terão uma crise epilética**.\n",
    "\n",
    "Portanto, para a versão **`v2`** dos modelos preditivos a minha escolha é o modelo criado com o algoritmo **`RFC`** (***Random Forest Classifier***)."
   ]
  },
  {
   "cell_type": "markdown",
   "metadata": {},
   "source": [
    "### Salvando o modelo preditivo (**`v2`**) escolhido:"
   ]
  },
  {
   "cell_type": "code",
   "execution_count": 35,
   "metadata": {},
   "outputs": [
    {
     "name": "stdout",
     "output_type": "stream",
     "text": [
      "O arquivo 'rfc_best_model_v2.pck' (modelo preditivo) foi salvo com sucesso!\n"
     ]
    }
   ],
   "source": [
    "# Salvando o modelo preditivo \"rfc\" (Random Forest Classifier):\n",
    "dslib.pickle_object_save (\n",
    "    path=ML_PATH, file=\"rfc_best_model_v2.pck\", object_name=rfc,\n",
    "    msg=\"O arquivo 'rfc_best_model_v2.pck' (modelo preditivo) foi salvo com sucesso!\"\n",
    ")"
   ]
  },
  {
   "cell_type": "markdown",
   "metadata": {},
   "source": [
    "### Avaliando o melhor modelo preditivo entre as versões `v1` e `v2`:"
   ]
  },
  {
   "cell_type": "code",
   "execution_count": 36,
   "metadata": {},
   "outputs": [
    {
     "name": "stdout",
     "output_type": "stream",
     "text": [
      "O arquivo 'clf_metrics_v1.pck' (data frame) foi carregado com sucesso!\n"
     ]
    }
   ],
   "source": [
    "# Carregando as métricas da versão \"v1\" dos modelos:\n",
    "clf_metrics_v1 = dslib.pickle_object_load(\n",
    "    path=OBJ_PATH, file=\"clf_metrics_v1.pck\",\n",
    "    msg=\"O arquivo 'clf_metrics_v1.pck' (data frame) foi carregado com sucesso!\"\n",
    ")"
   ]
  },
  {
   "cell_type": "code",
   "execution_count": 37,
   "metadata": {},
   "outputs": [
    {
     "data": {
      "text/html": [
       "<div>\n",
       "<style scoped>\n",
       "    .dataframe tbody tr th:only-of-type {\n",
       "        vertical-align: middle;\n",
       "    }\n",
       "\n",
       "    .dataframe tbody tr th {\n",
       "        vertical-align: top;\n",
       "    }\n",
       "\n",
       "    .dataframe thead th {\n",
       "        text-align: right;\n",
       "    }\n",
       "</style>\n",
       "<table border=\"1\" class=\"dataframe\">\n",
       "  <thead>\n",
       "    <tr style=\"text-align: right;\">\n",
       "      <th></th>\n",
       "      <th>model</th>\n",
       "      <th>data set</th>\n",
       "      <th>auc</th>\n",
       "      <th>accuracy</th>\n",
       "      <th>precision</th>\n",
       "      <th>recall</th>\n",
       "      <th>f1-score</th>\n",
       "      <th>version</th>\n",
       "    </tr>\n",
       "  </thead>\n",
       "  <tbody>\n",
       "    <tr>\n",
       "      <th>0</th>\n",
       "      <td>RFC</td>\n",
       "      <td>test</td>\n",
       "      <td>0.9965</td>\n",
       "      <td>0.9696</td>\n",
       "      <td>0.8824</td>\n",
       "      <td>0.9783</td>\n",
       "      <td>0.9278</td>\n",
       "      <td>v1</td>\n",
       "    </tr>\n",
       "    <tr>\n",
       "      <th>1</th>\n",
       "      <td>RFC</td>\n",
       "      <td>test</td>\n",
       "      <td>0.9956</td>\n",
       "      <td>0.9539</td>\n",
       "      <td>0.8172</td>\n",
       "      <td>0.9913</td>\n",
       "      <td>0.8959</td>\n",
       "      <td>v2</td>\n",
       "    </tr>\n",
       "  </tbody>\n",
       "</table>\n",
       "</div>"
      ],
      "text/plain": [
       "  model data set     auc  accuracy  precision  recall  f1-score version\n",
       "0   RFC     test  0.9965    0.9696     0.8824  0.9783    0.9278      v1\n",
       "1   RFC     test  0.9956    0.9539     0.8172  0.9913    0.8959      v2"
      ]
     },
     "execution_count": 37,
     "metadata": {},
     "output_type": "execute_result"
    }
   ],
   "source": [
    "# Filtrando as métricas da versão \"v1\" do modelo \"RFC\":\n",
    "# Criando um índice para selecionarmos apenas as linhas referente aos dados de teste do modelo \"RFC\":\n",
    "index = (clf_metrics_v1['data set'] == 'test') & (clf_metrics_v1['model'] == 'RFC')\n",
    "rfc_metrics_v1 = clf_metrics_v1[index]\n",
    "rfc_metrics_v1['version'] = 'v1'\n",
    "\n",
    "# Filtrando as métricas da versão \"v2\" do modelo \"RFC\":\n",
    "# Criando um índice para selecionarmos apenas as linhas referente aos dados de teste do modelo \"RFC\":\n",
    "index = (clf_metrics_v2['data set'] == 'test') & (clf_metrics_v2['model'] == 'RFC')\n",
    "rfc_metrics_v2 = clf_metrics_v2[index]\n",
    "rfc_metrics_v2['version'] = 'v2'\n",
    "\n",
    "# Criando um data frame com as métricas \"v1\" e \"v2\" do \"RFC\":\n",
    "rfc_metrics = pd.concat(objs=[rfc_metrics_v1,rfc_metrics_v2], axis=0, ignore_index=True)\n",
    "rfc_metrics"
   ]
  },
  {
   "cell_type": "markdown",
   "metadata": {},
   "source": [
    "**Análise:** a versão **`v1`** do modelo preditivo **`RFC`** apresentou o melhor desempenho na métrica **`AUC`** e portanto é o modelo final escolhido para solucionar o problema de negócio, ou seja, **prever se o paciente terá uma crise epilética**."
   ]
  },
  {
   "cell_type": "markdown",
   "metadata": {},
   "source": [
    "## <font color='black'>FIM</font>"
   ]
  }
 ],
 "metadata": {
  "kernelspec": {
   "display_name": "Python 3 (ipykernel)",
   "language": "python",
   "name": "python3"
  },
  "language_info": {
   "codemirror_mode": {
    "name": "ipython",
    "version": 3
   },
   "file_extension": ".py",
   "mimetype": "text/x-python",
   "name": "python",
   "nbconvert_exporter": "python",
   "pygments_lexer": "ipython3",
   "version": "3.7.11"
  }
 },
 "nbformat": 4,
 "nbformat_minor": 2
}
